{
 "cells": [
  {
   "cell_type": "markdown",
   "id": "be0e8eb5",
   "metadata": {},
   "source": [
    "# Somikorno AI\n",
    "\n",
    "## Quick Test : NLP Problem 1\n",
    "\n",
    "#### Extract Native PDF"
   ]
  },
  {
   "cell_type": "markdown",
   "id": "6356577d",
   "metadata": {},
   "source": [
    "#### Goal \n",
    "\n",
    "To extract all meaningful english words from a native pdf file. This is a classic NLP problem.\n",
    "\n",
    "\n",
    "#### Some Key Points to Keep in  Mind\n",
    "\n",
    "1. One of the most critical programming skill that is need in NLP is to know how to use regular expression. Use regular expression quick help : https://www.w3schools.com/python/python_regex.asp\n",
    "\n",
    "2. Regular expression is needed for cleaning textual data\n",
    "\n",
    "3. You may or may not use `stemmer` to extract meaningful words/strings\n",
    "\n",
    "\n",
    "To successfully run this notebook you would need to have the followiing packages installed:\n",
    "    \n",
    "1. numpy\n",
    "\n",
    "2. pandas\n",
    "\n",
    "3. pypdf2"
   ]
  },
  {
   "cell_type": "markdown",
   "id": "b9a8a0c4",
   "metadata": {},
   "source": [
    "### Load Required Packages"
   ]
  },
  {
   "cell_type": "code",
   "execution_count": 1,
   "id": "9c4f1c32",
   "metadata": {},
   "outputs": [],
   "source": [
    "import numpy as np\n",
    "import pandas as pd\n",
    "import os\n",
    "import re\n",
    "import json"
   ]
  },
  {
   "cell_type": "code",
   "execution_count": 4,
   "id": "49bf9d2d",
   "metadata": {},
   "outputs": [],
   "source": [
    "# !pip3 install pypdf2\n",
    "import PyPDF2"
   ]
  },
  {
   "cell_type": "markdown",
   "id": "97754fb8",
   "metadata": {},
   "source": [
    "-------------------------------------------------------------------------------------------------"
   ]
  },
  {
   "cell_type": "markdown",
   "id": "4c878dc6",
   "metadata": {},
   "source": [
    "### Part 1 :  Read Data\n",
    "\n",
    "Read the `data_testscript_01.pdf` file  from your  working directory"
   ]
  },
  {
   "cell_type": "code",
   "execution_count": 5,
   "id": "0ec3c959",
   "metadata": {},
   "outputs": [],
   "source": [
    "reader = PyPDF2.PdfFileReader(open('data_testscript_01.pdf','rb'))"
   ]
  },
  {
   "cell_type": "markdown",
   "id": "de5869b3",
   "metadata": {},
   "source": [
    "#### Find the number of pages"
   ]
  },
  {
   "cell_type": "code",
   "execution_count": 7,
   "id": "01f0d28d",
   "metadata": {},
   "outputs": [
    {
     "name": "stdout",
     "output_type": "stream",
     "text": [
      "7\n"
     ]
    }
   ],
   "source": [
    "number_of_pages = reader.getNumPages()\n",
    "print(number_of_pages)"
   ]
  },
  {
   "cell_type": "markdown",
   "id": "8cba63de",
   "metadata": {},
   "source": [
    "#### Get the first page : indexed by 0"
   ]
  },
  {
   "cell_type": "code",
   "execution_count": 8,
   "id": "1927a2c8",
   "metadata": {},
   "outputs": [
    {
     "name": "stdout",
     "output_type": "stream",
     "text": [
      "{'/Type': '/Page', '/MediaBox': [0, 0, 595, 842], '/Rotate': 0, '/Parent': IndirectObject(3, 0, 1975151020736), '/Resources': {'/ProcSet': ['/PDF', '/Text'], '/ExtGState': IndirectObject(30, 0, 1975151020736), '/Font': IndirectObject(31, 0, 1975151020736)}, '/Contents': IndirectObject(5, 0, 1975151020736)}\n"
     ]
    }
   ],
   "source": [
    "page =reader.pages[0] \n",
    "print(page)"
   ]
  },
  {
   "cell_type": "markdown",
   "id": "f62293b4",
   "metadata": {},
   "source": [
    "#### Get text from the first page "
   ]
  },
  {
   "cell_type": "code",
   "execution_count": 9,
   "id": "02c00f43",
   "metadata": {},
   "outputs": [
    {
     "name": "stdout",
     "output_type": "stream",
     "text": [
      "Feature Interactions in XGBoost\n",
      "Kshitij Goyal, Sebastijan Dumancic, Hendrik Blockeel\n",
      "KU Leuven, Belgium\n",
      "Abstract. In this paper, We investigate how feature interactions can\n",
      "be identi ﬁed to be used as constraints in gradient boosting tree mod-\n",
      "els through XGBoost’s implementation. Our results show tha t accurate\n",
      "identiﬁcation of these constraints can help improve the performanc e\n",
      "of baseline XGBoost model signi ﬁcantly. Further, improvement in the\n",
      "model structure can also lead to better interpretability.\n",
      "Keywords: Feature Interaction ·XGBoost ·Constraints ·Interpretabil-\n",
      "ity\n",
      "1 Introduction\n",
      "In statistics, two variables X1andX2are said to interact when the e ﬀect of\n",
      "X1on a target variable Yis not constant, but may depend on the value of X2.\n",
      "\"Eﬀect\" here refers to the increase or decrease of Ythat is caused by a change\n",
      "inX1(while keeping X2constant). Interaction does not occur in linear models\n",
      "of the form\n",
      "Y=aX1+bX2\n",
      "an unit increase of X1by 1 will always increase Ybya(assuming X2is kept\n",
      "constant). On the other hand, a model of the form\n",
      "Y=aX1+bX2+cX1X2\n",
      "does have interaction: rewriting it as\n",
      "Y= (a+cX2)X1+bX2\n",
      "makes clear that a unit increase of X1increases Ybya+cX2, hence, by a value\n",
      "that depends on X2. In statistics, a common way to detect interaction is to train\n",
      "models with and without product terms, and check whether the ver sion with a\n",
      "product term signi ﬁcantly outperforms the one without.\n",
      "In the context of decision trees, X1andX2do not interact if the following\n",
      "holds: whenever a test of X2is used, either X2does not occur in any of the\n",
      "branches, or if it does, it must be tested in exactly the same w ay in all branches.\n",
      "Indeed, if we would have a test X1<a where the left branch contains X2<b and\n",
      "the right one does not, this means that the target depends on X2ifX1<a, but\n",
      "does not depend on it if X1>a; that is, the e ﬀect ofX2onYclearly depends\n",
      "on the value of X1. Obviously, having identical sub-trees in the left and righ t\n"
     ]
    }
   ],
   "source": [
    "text = page.extract_text()\n",
    "print(text)"
   ]
  },
  {
   "cell_type": "markdown",
   "id": "0f59bcb0",
   "metadata": {},
   "source": [
    "-------------------------------------------------------------------------------------------------"
   ]
  },
  {
   "cell_type": "markdown",
   "id": "cb687633",
   "metadata": {},
   "source": [
    "Everything that has been written below has been done for Page 1 only "
   ]
  },
  {
   "cell_type": "markdown",
   "id": "6ea80c88",
   "metadata": {},
   "source": [
    "-------------------------------------------------------------------------------------------------"
   ]
  },
  {
   "cell_type": "markdown",
   "id": "09ebf426",
   "metadata": {},
   "source": [
    "### Part 2: Clean Data\n",
    "\n",
    "#### Step 1: Split the text by white-space"
   ]
  },
  {
   "cell_type": "code",
   "execution_count": 10,
   "id": "9834b84e",
   "metadata": {},
   "outputs": [
    {
     "name": "stdout",
     "output_type": "stream",
     "text": [
      "['Feature', 'Interactions', 'in', 'XGBoost\\nKshitij', 'Goyal,', 'Sebastijan', 'Dumancic,', 'Hendrik', 'Blockeel\\nKU', 'Leuven,', 'Belgium\\nAbstract.', 'In', 'this', 'paper,', 'We', 'investigate', 'how', 'feature', 'interactions', 'can\\nbe', 'identi', 'ﬁed', 'to', 'be', 'used', 'as', 'constraints', 'in', 'gradient', 'boosting', 'tree', 'mod-\\nels', 'through', 'XGBoost’s', 'implementation.', 'Our', 'results', 'show', 'tha', 't', 'accurate\\nidentiﬁcation', 'of', 'these', 'constraints', 'can', 'help', 'improve', 'the', 'performanc', 'e\\nof', 'baseline', 'XGBoost', 'model', 'signi', 'ﬁcantly.', 'Further,', 'improvement', 'in', 'the\\nmodel', 'structure', 'can', 'also', 'lead', 'to', 'better', 'interpretability.\\nKeywords:', 'Feature', 'Interaction', '·XGBoost', '·Constraints', '·Interpretabil-\\nity\\n1', 'Introduction\\nIn', 'statistics,', 'two', 'variables', 'X1andX2are', 'said', 'to', 'interact', 'when', 'the', 'e', 'ﬀect', 'of\\nX1on', 'a', 'target', 'variable', 'Yis', 'not', 'constant,', 'but', 'may', 'depend', 'on', 'the', 'value', 'of', 'X2.\\n\"Eﬀect\"', 'here', 'refers', 'to', 'the', 'increase', 'or', 'decrease', 'of', 'Ythat', 'is', 'caused', 'by', 'a', 'change\\ninX1(while', 'keeping', 'X2constant).', 'Interaction', 'does', 'not', 'occur', 'in', 'linear', 'models\\nof', 'the', 'form\\nY=aX1+bX2\\nan', 'unit', 'increase', 'of', 'X1by', '1', 'will', 'always', 'increase', 'Ybya(assuming', 'X2is', 'kept\\nconstant).', 'On', 'the', 'other', 'hand,', 'a', 'model', 'of', 'the', 'form\\nY=aX1+bX2+cX1X2\\ndoes', 'have', 'interaction:', 'rewriting', 'it', 'as\\nY=', '(a+cX2)X1+bX2\\nmakes', 'clear', 'that', 'a', 'unit', 'increase', 'of', 'X1increases', 'Ybya+cX2,', 'hence,', 'by', 'a', 'value\\nthat', 'depends', 'on', 'X2.', 'In', 'statistics,', 'a', 'common', 'way', 'to', 'detect', 'interaction', 'is', 'to', 'train\\nmodels', 'with', 'and', 'without', 'product', 'terms,', 'and', 'check', 'whether', 'the', 'ver', 'sion', 'with', 'a\\nproduct', 'term', 'signi', 'ﬁcantly', 'outperforms', 'the', 'one', 'without.\\nIn', 'the', 'context', 'of', 'decision', 'trees,', 'X1andX2do', 'not', 'interact', 'if', 'the', 'following\\nholds:', 'whenever', 'a', 'test', 'of', 'X2is', 'used,', 'either', 'X2does', 'not', 'occur', 'in', 'any', 'of', 'the\\nbranches,', 'or', 'if', 'it', 'does,', 'it', 'must', 'be', 'tested', 'in', 'exactly', 'the', 'same', 'w', 'ay', 'in', 'all', 'branches.\\nIndeed,', 'if', 'we', 'would', 'have', 'a', 'test', 'X1<a', 'where', 'the', 'left', 'branch', 'contains', 'X2<b', 'and\\nthe', 'right', 'one', 'does', 'not,', 'this', 'means', 'that', 'the', 'target', 'depends', 'on', 'X2ifX1<a,', 'but\\ndoes', 'not', 'depend', 'on', 'it', 'if', 'X1>a;', 'that', 'is,', 'the', 'e', 'ﬀect', 'ofX2onYclearly', 'depends\\non', 'the', 'value', 'of', 'X1.', 'Obviously,', 'having', 'identical', 'sub-trees', 'in', 'the', 'left', 'and', 'righ', 't']\n"
     ]
    }
   ],
   "source": [
    "_text1 = text.split(\" \")\n",
    "print( _text1)"
   ]
  },
  {
   "cell_type": "markdown",
   "id": "ab5343dc",
   "metadata": {},
   "source": [
    "#### Step 2 : Remove newline brake  and white space"
   ]
  },
  {
   "cell_type": "markdown",
   "id": "3f750808",
   "metadata": {},
   "source": [
    "Check & Learn : Use of replace() method"
   ]
  },
  {
   "cell_type": "code",
   "execution_count": 7,
   "id": "23db3f16",
   "metadata": {},
   "outputs": [],
   "source": [
    "#'\\nBangladesh'.replace('\\n','')\n",
    "#'\\nBangladesh\\n'.replace('\\n','')\n",
    "#'\\n\\nBangladesh\\n'.replace('\\n','')\n",
    "#'\\n\\nBangladesh\\\\n'.replace('\\n','')"
   ]
  },
  {
   "cell_type": "markdown",
   "id": "1f52c219",
   "metadata": {},
   "source": [
    "Check and Learn : Use of strip() method"
   ]
  },
  {
   "cell_type": "code",
   "execution_count": 8,
   "id": "baf384c5",
   "metadata": {},
   "outputs": [],
   "source": [
    "#' Bangaldesh Data Science '.strip()"
   ]
  },
  {
   "cell_type": "markdown",
   "id": "8031e909",
   "metadata": {},
   "source": [
    "Check & Learn : Combine the two methods"
   ]
  },
  {
   "cell_type": "code",
   "execution_count": 9,
   "id": "367dac96",
   "metadata": {},
   "outputs": [],
   "source": [
    "#' \\nBangaldesh Data Science\\n '.replace('\\n','').strip()"
   ]
  },
  {
   "cell_type": "markdown",
   "id": "1176ffdd",
   "metadata": {},
   "source": [
    "Step 2a : Apply your newly acquired knowledge to the original problem  "
   ]
  },
  {
   "cell_type": "code",
   "execution_count": 11,
   "id": "91dd0205",
   "metadata": {},
   "outputs": [
    {
     "name": "stdout",
     "output_type": "stream",
     "text": [
      "['Feature', 'Interactions', 'in', 'XGBoostKshitij', 'Goyal,', 'Sebastijan', 'Dumancic,', 'Hendrik', 'BlockeelKU', 'Leuven,', 'BelgiumAbstract.', 'In', 'this', 'paper,', 'We', 'investigate', 'how', 'feature', 'interactions', 'canbe', 'identi', 'ﬁed', 'to', 'be', 'used', 'as', 'constraints', 'in', 'gradient', 'boosting', 'tree', 'mod-els', 'through', 'XGBoost’s', 'implementation.', 'Our', 'results', 'show', 'tha', 't', 'accurateidentiﬁcation', 'of', 'these', 'constraints', 'can', 'help', 'improve', 'the', 'performanc', 'eof', 'baseline', 'XGBoost', 'model', 'signi', 'ﬁcantly.', 'Further,', 'improvement', 'in', 'themodel', 'structure', 'can', 'also', 'lead', 'to', 'better', 'interpretability.Keywords:', 'Feature', 'Interaction', '·XGBoost', '·Constraints', '·Interpretabil-ity1', 'IntroductionIn', 'statistics,', 'two', 'variables', 'X1andX2are', 'said', 'to', 'interact', 'when', 'the', 'e', 'ﬀect', 'ofX1on', 'a', 'target', 'variable', 'Yis', 'not', 'constant,', 'but', 'may', 'depend', 'on', 'the', 'value', 'of', 'X2.\"Eﬀect\"', 'here', 'refers', 'to', 'the', 'increase', 'or', 'decrease', 'of', 'Ythat', 'is', 'caused', 'by', 'a', 'changeinX1(while', 'keeping', 'X2constant).', 'Interaction', 'does', 'not', 'occur', 'in', 'linear', 'modelsof', 'the', 'formY=aX1+bX2an', 'unit', 'increase', 'of', 'X1by', '1', 'will', 'always', 'increase', 'Ybya(assuming', 'X2is', 'keptconstant).', 'On', 'the', 'other', 'hand,', 'a', 'model', 'of', 'the', 'formY=aX1+bX2+cX1X2does', 'have', 'interaction:', 'rewriting', 'it', 'asY=', '(a+cX2)X1+bX2makes', 'clear', 'that', 'a', 'unit', 'increase', 'of', 'X1increases', 'Ybya+cX2,', 'hence,', 'by', 'a', 'valuethat', 'depends', 'on', 'X2.', 'In', 'statistics,', 'a', 'common', 'way', 'to', 'detect', 'interaction', 'is', 'to', 'trainmodels', 'with', 'and', 'without', 'product', 'terms,', 'and', 'check', 'whether', 'the', 'ver', 'sion', 'with', 'aproduct', 'term', 'signi', 'ﬁcantly', 'outperforms', 'the', 'one', 'without.In', 'the', 'context', 'of', 'decision', 'trees,', 'X1andX2do', 'not', 'interact', 'if', 'the', 'followingholds:', 'whenever', 'a', 'test', 'of', 'X2is', 'used,', 'either', 'X2does', 'not', 'occur', 'in', 'any', 'of', 'thebranches,', 'or', 'if', 'it', 'does,', 'it', 'must', 'be', 'tested', 'in', 'exactly', 'the', 'same', 'w', 'ay', 'in', 'all', 'branches.Indeed,', 'if', 'we', 'would', 'have', 'a', 'test', 'X1<a', 'where', 'the', 'left', 'branch', 'contains', 'X2<b', 'andthe', 'right', 'one', 'does', 'not,', 'this', 'means', 'that', 'the', 'target', 'depends', 'on', 'X2ifX1<a,', 'butdoes', 'not', 'depend', 'on', 'it', 'if', 'X1>a;', 'that', 'is,', 'the', 'e', 'ﬀect', 'ofX2onYclearly', 'dependson', 'the', 'value', 'of', 'X1.', 'Obviously,', 'having', 'identical', 'sub-trees', 'in', 'the', 'left', 'and', 'righ', 't']\n"
     ]
    }
   ],
   "source": [
    "_text2a =  []\n",
    "for text in _text1:\n",
    "    _text2a.append(str(text).replace('\\n','').strip())\n",
    "print(_text2a)\n"
   ]
  },
  {
   "cell_type": "markdown",
   "id": "6d3adb80",
   "metadata": {},
   "source": [
    "Step 2b : Remove strings with length =  0 "
   ]
  },
  {
   "cell_type": "code",
   "execution_count": 12,
   "id": "ce28a13b",
   "metadata": {},
   "outputs": [
    {
     "name": "stdout",
     "output_type": "stream",
     "text": [
      "['Feature', 'Interactions', 'in', 'XGBoostKshitij', 'Goyal,', 'Sebastijan', 'Dumancic,', 'Hendrik', 'BlockeelKU', 'Leuven,', 'BelgiumAbstract.', 'In', 'this', 'paper,', 'We', 'investigate', 'how', 'feature', 'interactions', 'canbe', 'identi', 'ﬁed', 'to', 'be', 'used', 'as', 'constraints', 'in', 'gradient', 'boosting', 'tree', 'mod-els', 'through', 'XGBoost’s', 'implementation.', 'Our', 'results', 'show', 'tha', 't', 'accurateidentiﬁcation', 'of', 'these', 'constraints', 'can', 'help', 'improve', 'the', 'performanc', 'eof', 'baseline', 'XGBoost', 'model', 'signi', 'ﬁcantly.', 'Further,', 'improvement', 'in', 'themodel', 'structure', 'can', 'also', 'lead', 'to', 'better', 'interpretability.Keywords:', 'Feature', 'Interaction', '·XGBoost', '·Constraints', '·Interpretabil-ity1', 'IntroductionIn', 'statistics,', 'two', 'variables', 'X1andX2are', 'said', 'to', 'interact', 'when', 'the', 'e', 'ﬀect', 'ofX1on', 'a', 'target', 'variable', 'Yis', 'not', 'constant,', 'but', 'may', 'depend', 'on', 'the', 'value', 'of', 'X2.\"Eﬀect\"', 'here', 'refers', 'to', 'the', 'increase', 'or', 'decrease', 'of', 'Ythat', 'is', 'caused', 'by', 'a', 'changeinX1(while', 'keeping', 'X2constant).', 'Interaction', 'does', 'not', 'occur', 'in', 'linear', 'modelsof', 'the', 'formY=aX1+bX2an', 'unit', 'increase', 'of', 'X1by', '1', 'will', 'always', 'increase', 'Ybya(assuming', 'X2is', 'keptconstant).', 'On', 'the', 'other', 'hand,', 'a', 'model', 'of', 'the', 'formY=aX1+bX2+cX1X2does', 'have', 'interaction:', 'rewriting', 'it', 'asY=', '(a+cX2)X1+bX2makes', 'clear', 'that', 'a', 'unit', 'increase', 'of', 'X1increases', 'Ybya+cX2,', 'hence,', 'by', 'a', 'valuethat', 'depends', 'on', 'X2.', 'In', 'statistics,', 'a', 'common', 'way', 'to', 'detect', 'interaction', 'is', 'to', 'trainmodels', 'with', 'and', 'without', 'product', 'terms,', 'and', 'check', 'whether', 'the', 'ver', 'sion', 'with', 'aproduct', 'term', 'signi', 'ﬁcantly', 'outperforms', 'the', 'one', 'without.In', 'the', 'context', 'of', 'decision', 'trees,', 'X1andX2do', 'not', 'interact', 'if', 'the', 'followingholds:', 'whenever', 'a', 'test', 'of', 'X2is', 'used,', 'either', 'X2does', 'not', 'occur', 'in', 'any', 'of', 'thebranches,', 'or', 'if', 'it', 'does,', 'it', 'must', 'be', 'tested', 'in', 'exactly', 'the', 'same', 'w', 'ay', 'in', 'all', 'branches.Indeed,', 'if', 'we', 'would', 'have', 'a', 'test', 'X1<a', 'where', 'the', 'left', 'branch', 'contains', 'X2<b', 'andthe', 'right', 'one', 'does', 'not,', 'this', 'means', 'that', 'the', 'target', 'depends', 'on', 'X2ifX1<a,', 'butdoes', 'not', 'depend', 'on', 'it', 'if', 'X1>a;', 'that', 'is,', 'the', 'e', 'ﬀect', 'ofX2onYclearly', 'dependson', 'the', 'value', 'of', 'X1.', 'Obviously,', 'having', 'identical', 'sub-trees', 'in', 'the', 'left', 'and', 'righ', 't']\n"
     ]
    }
   ],
   "source": [
    "_text2b = []\n",
    "\n",
    "for text in _text2a:\n",
    "    if len(text) != 0:\n",
    "        _text2b.append(text)\n",
    "print(_text2b)"
   ]
  },
  {
   "cell_type": "markdown",
   "id": "9847a29b",
   "metadata": {},
   "source": [
    "#### Step 3 : Remove special characters, such as,  full  stop, comma, color,  semi-colon, etc. "
   ]
  },
  {
   "cell_type": "markdown",
   "id": "b15226e4",
   "metadata": {},
   "source": [
    "We need a special package called `re`, aka, `regular expression`"
   ]
  },
  {
   "cell_type": "code",
   "execution_count": 13,
   "id": "455688d1",
   "metadata": {},
   "outputs": [],
   "source": [
    "import re"
   ]
  },
  {
   "cell_type": "markdown",
   "id": "9242540b",
   "metadata": {},
   "source": [
    "Check and Learn : use 'sub' function to remove special characters"
   ]
  },
  {
   "cell_type": "code",
   "execution_count": 13,
   "id": "cf127acd",
   "metadata": {},
   "outputs": [],
   "source": [
    "#re.sub('[:;.\\[\\]]','','.[Bias Term];')"
   ]
  },
  {
   "cell_type": "code",
   "execution_count": 14,
   "id": "b5d95baa",
   "metadata": {},
   "outputs": [
    {
     "name": "stdout",
     "output_type": "stream",
     "text": [
      "['Feature', 'Interactions', 'in', 'XGBoostKshitij', 'Goyal', 'Sebastijan', 'Dumancic', 'Hendrik', 'BlockeelKU', 'Leuven', 'BelgiumAbstract', 'In', 'this', 'paper', 'We', 'investigate', 'how', 'feature', 'interactions', 'canbe', 'identi', 'ﬁed', 'to', 'be', 'used', 'as', 'constraints', 'in', 'gradient', 'boosting', 'tree', 'mod-els', 'through', 'XGBoost’s', 'implementation', 'Our', 'results', 'show', 'tha', 't', 'accurateidentiﬁcation', 'of', 'these', 'constraints', 'can', 'help', 'improve', 'the', 'performanc', 'eof', 'baseline', 'XGBoost', 'model', 'signi', 'ﬁcantly', 'Further', 'improvement', 'in', 'themodel', 'structure', 'can', 'also', 'lead', 'to', 'better', 'interpretabilityKeywords', 'Feature', 'Interaction', '·XGBoost', '·Constraints', '·Interpretabil-ity1', 'IntroductionIn', 'statistics', 'two', 'variables', 'X1andX2are', 'said', 'to', 'interact', 'when', 'the', 'e', 'ﬀect', 'ofX1on', 'a', 'target', 'variable', 'Yis', 'not', 'constant', 'but', 'may', 'depend', 'on', 'the', 'value', 'of', 'X2\"Eﬀect\"', 'here', 'refers', 'to', 'the', 'increase', 'or', 'decrease', 'of', 'Ythat', 'is', 'caused', 'by', 'a', 'changeinX1(while', 'keeping', 'X2constant)', 'Interaction', 'does', 'not', 'occur', 'in', 'linear', 'modelsof', 'the', 'formY=aX1+bX2an', 'unit', 'increase', 'of', 'X1by', '1', 'will', 'always', 'increase', 'Ybya(assuming', 'X2is', 'keptconstant)', 'On', 'the', 'other', 'hand', 'a', 'model', 'of', 'the', 'formY=aX1+bX2+cX1X2does', 'have', 'interaction', 'rewriting', 'it', 'asY=', '(a+cX2)X1+bX2makes', 'clear', 'that', 'a', 'unit', 'increase', 'of', 'X1increases', 'Ybya+cX2', 'hence', 'by', 'a', 'valuethat', 'depends', 'on', 'X2', 'In', 'statistics', 'a', 'common', 'way', 'to', 'detect', 'interaction', 'is', 'to', 'trainmodels', 'with', 'and', 'without', 'product', 'terms', 'and', 'check', 'whether', 'the', 'ver', 'sion', 'with', 'aproduct', 'term', 'signi', 'ﬁcantly', 'outperforms', 'the', 'one', 'withoutIn', 'the', 'context', 'of', 'decision', 'trees', 'X1andX2do', 'not', 'interact', 'if', 'the', 'followingholds', 'whenever', 'a', 'test', 'of', 'X2is', 'used', 'either', 'X2does', 'not', 'occur', 'in', 'any', 'of', 'thebranches', 'or', 'if', 'it', 'does', 'it', 'must', 'be', 'tested', 'in', 'exactly', 'the', 'same', 'w', 'ay', 'in', 'all', 'branchesIndeed', 'if', 'we', 'would', 'have', 'a', 'test', 'X1<a', 'where', 'the', 'left', 'branch', 'contains', 'X2<b', 'andthe', 'right', 'one', 'does', 'not', 'this', 'means', 'that', 'the', 'target', 'depends', 'on', 'X2ifX1<a', 'butdoes', 'not', 'depend', 'on', 'it', 'if', 'X1>a', 'that', 'is', 'the', 'e', 'ﬀect', 'ofX2onYclearly', 'dependson', 'the', 'value', 'of', 'X1', 'Obviously', 'having', 'identical', 'sub-trees', 'in', 'the', 'left', 'and', 'righ', 't']\n",
      "\n",
      "number of total strings : 291\n"
     ]
    }
   ],
   "source": [
    "_text3 = [] \n",
    "for text in _text2b:\n",
    "    _text3.append(re.sub('[:,;.\\[\\]]', '', text))\n",
    "print(_text3)\n",
    "print('')\n",
    "print( 'number of total strings :', len(_text3) )"
   ]
  },
  {
   "cell_type": "markdown",
   "id": "c81fa771",
   "metadata": {},
   "source": [
    "#### Step 4 : Remove un-wanted  strings, such as, (i), (ii), (iii), ... etc."
   ]
  },
  {
   "cell_type": "code",
   "execution_count": 15,
   "id": "128a8c5b",
   "metadata": {},
   "outputs": [],
   "source": [
    "# s = '(i) this is item number one, (ii) this is item number two'\n",
    "# re.sub('\\([a-z]+\\)','',s)"
   ]
  },
  {
   "cell_type": "code",
   "execution_count": 15,
   "id": "97310c61",
   "metadata": {},
   "outputs": [
    {
     "name": "stdout",
     "output_type": "stream",
     "text": [
      "['Feature', 'Interactions', 'in', 'XGBoostKshitij', 'Goyal', 'Sebastijan', 'Dumancic', 'Hendrik', 'BlockeelKU', 'Leuven', 'BelgiumAbstract', 'In', 'this', 'paper', 'We', 'investigate', 'how', 'feature', 'interactions', 'canbe', 'identi', 'ﬁed', 'to', 'be', 'used', 'as', 'constraints', 'in', 'gradient', 'boosting', 'tree', 'mod-els', 'through', 'XGBoost’s', 'implementation', 'Our', 'results', 'show', 'tha', 't', 'accurateidentiﬁcation', 'of', 'these', 'constraints', 'can', 'help', 'improve', 'the', 'performanc', 'eof', 'baseline', 'XGBoost', 'model', 'signi', 'ﬁcantly', 'Further', 'improvement', 'in', 'themodel', 'structure', 'can', 'also', 'lead', 'to', 'better', 'interpretabilityKeywords', 'Feature', 'Interaction', '·XGBoost', '·Constraints', '·Interpretabil-ity1', 'IntroductionIn', 'statistics', 'two', 'variables', 'X1andX2are', 'said', 'to', 'interact', 'when', 'the', 'e', 'ﬀect', 'ofX1on', 'a', 'target', 'variable', 'Yis', 'not', 'constant', 'but', 'may', 'depend', 'on', 'the', 'value', 'of', 'X2\"Eﬀect\"', 'here', 'refers', 'to', 'the', 'increase', 'or', 'decrease', 'of', 'Ythat', 'is', 'caused', 'by', 'a', 'changeinX1(while', 'keeping', 'X2constant)', 'Interaction', 'does', 'not', 'occur', 'in', 'linear', 'modelsof', 'the', 'formY=aX1+bX2an', 'unit', 'increase', 'of', 'X1by', '1', 'will', 'always', 'increase', 'Ybya(assuming', 'X2is', 'keptconstant)', 'On', 'the', 'other', 'hand', 'a', 'model', 'of', 'the', 'formY=aX1+bX2+cX1X2does', 'have', 'interaction', 'rewriting', 'it', 'asY=', '(a+cX2)X1+bX2makes', 'clear', 'that', 'a', 'unit', 'increase', 'of', 'X1increases', 'Ybya+cX2', 'hence', 'by', 'a', 'valuethat', 'depends', 'on', 'X2', 'In', 'statistics', 'a', 'common', 'way', 'to', 'detect', 'interaction', 'is', 'to', 'trainmodels', 'with', 'and', 'without', 'product', 'terms', 'and', 'check', 'whether', 'the', 'ver', 'sion', 'with', 'aproduct', 'term', 'signi', 'ﬁcantly', 'outperforms', 'the', 'one', 'withoutIn', 'the', 'context', 'of', 'decision', 'trees', 'X1andX2do', 'not', 'interact', 'if', 'the', 'followingholds', 'whenever', 'a', 'test', 'of', 'X2is', 'used', 'either', 'X2does', 'not', 'occur', 'in', 'any', 'of', 'thebranches', 'or', 'if', 'it', 'does', 'it', 'must', 'be', 'tested', 'in', 'exactly', 'the', 'same', 'w', 'ay', 'in', 'all', 'branchesIndeed', 'if', 'we', 'would', 'have', 'a', 'test', 'X1<a', 'where', 'the', 'left', 'branch', 'contains', 'X2<b', 'andthe', 'right', 'one', 'does', 'not', 'this', 'means', 'that', 'the', 'target', 'depends', 'on', 'X2ifX1<a', 'butdoes', 'not', 'depend', 'on', 'it', 'if', 'X1>a', 'that', 'is', 'the', 'e', 'ﬀect', 'ofX2onYclearly', 'dependson', 'the', 'value', 'of', 'X1', 'Obviously', 'having', 'identical', 'sub-trees', 'in', 'the', 'left', 'and', 'righ', 't']\n",
      "\n",
      "number of total strings : 291\n"
     ]
    }
   ],
   "source": [
    "_text4a =[]\n",
    "for text in _text3:\n",
    "    _text4a.append(re.sub('\\([a-z]+\\)','',text))\n",
    "print(_text4a)\n",
    "print('')\n",
    "print( 'number of total strings :', len(_text4a) )"
   ]
  },
  {
   "cell_type": "markdown",
   "id": "cdfb2844",
   "metadata": {},
   "source": [
    "Remove strings with length 0"
   ]
  },
  {
   "cell_type": "code",
   "execution_count": 16,
   "id": "b672be24",
   "metadata": {},
   "outputs": [
    {
     "name": "stdout",
     "output_type": "stream",
     "text": [
      "['Feature', 'Interactions', 'in', 'XGBoostKshitij', 'Goyal', 'Sebastijan', 'Dumancic', 'Hendrik', 'BlockeelKU', 'Leuven', 'BelgiumAbstract', 'In', 'this', 'paper', 'We', 'investigate', 'how', 'feature', 'interactions', 'canbe', 'identi', 'ﬁed', 'to', 'be', 'used', 'as', 'constraints', 'in', 'gradient', 'boosting', 'tree', 'mod-els', 'through', 'XGBoost’s', 'implementation', 'Our', 'results', 'show', 'tha', 't', 'accurateidentiﬁcation', 'of', 'these', 'constraints', 'can', 'help', 'improve', 'the', 'performanc', 'eof', 'baseline', 'XGBoost', 'model', 'signi', 'ﬁcantly', 'Further', 'improvement', 'in', 'themodel', 'structure', 'can', 'also', 'lead', 'to', 'better', 'interpretabilityKeywords', 'Feature', 'Interaction', '·XGBoost', '·Constraints', '·Interpretabil-ity1', 'IntroductionIn', 'statistics', 'two', 'variables', 'X1andX2are', 'said', 'to', 'interact', 'when', 'the', 'e', 'ﬀect', 'ofX1on', 'a', 'target', 'variable', 'Yis', 'not', 'constant', 'but', 'may', 'depend', 'on', 'the', 'value', 'of', 'X2\"Eﬀect\"', 'here', 'refers', 'to', 'the', 'increase', 'or', 'decrease', 'of', 'Ythat', 'is', 'caused', 'by', 'a', 'changeinX1(while', 'keeping', 'X2constant)', 'Interaction', 'does', 'not', 'occur', 'in', 'linear', 'modelsof', 'the', 'formY=aX1+bX2an', 'unit', 'increase', 'of', 'X1by', '1', 'will', 'always', 'increase', 'Ybya(assuming', 'X2is', 'keptconstant)', 'On', 'the', 'other', 'hand', 'a', 'model', 'of', 'the', 'formY=aX1+bX2+cX1X2does', 'have', 'interaction', 'rewriting', 'it', 'asY=', '(a+cX2)X1+bX2makes', 'clear', 'that', 'a', 'unit', 'increase', 'of', 'X1increases', 'Ybya+cX2', 'hence', 'by', 'a', 'valuethat', 'depends', 'on', 'X2', 'In', 'statistics', 'a', 'common', 'way', 'to', 'detect', 'interaction', 'is', 'to', 'trainmodels', 'with', 'and', 'without', 'product', 'terms', 'and', 'check', 'whether', 'the', 'ver', 'sion', 'with', 'aproduct', 'term', 'signi', 'ﬁcantly', 'outperforms', 'the', 'one', 'withoutIn', 'the', 'context', 'of', 'decision', 'trees', 'X1andX2do', 'not', 'interact', 'if', 'the', 'followingholds', 'whenever', 'a', 'test', 'of', 'X2is', 'used', 'either', 'X2does', 'not', 'occur', 'in', 'any', 'of', 'thebranches', 'or', 'if', 'it', 'does', 'it', 'must', 'be', 'tested', 'in', 'exactly', 'the', 'same', 'w', 'ay', 'in', 'all', 'branchesIndeed', 'if', 'we', 'would', 'have', 'a', 'test', 'X1<a', 'where', 'the', 'left', 'branch', 'contains', 'X2<b', 'andthe', 'right', 'one', 'does', 'not', 'this', 'means', 'that', 'the', 'target', 'depends', 'on', 'X2ifX1<a', 'butdoes', 'not', 'depend', 'on', 'it', 'if', 'X1>a', 'that', 'is', 'the', 'e', 'ﬀect', 'ofX2onYclearly', 'dependson', 'the', 'value', 'of', 'X1', 'Obviously', 'having', 'identical', 'sub-trees', 'in', 'the', 'left', 'and', 'righ', 't']\n",
      "\n",
      "number of total strings : 291\n"
     ]
    }
   ],
   "source": [
    "_text4b = []\n",
    "for text in _text4a:\n",
    "    if len(text) != 0:\n",
    "        _text4b.append(text)\n",
    "print(_text4b)\n",
    "print('')\n",
    "print( 'number of total strings :', len(_text4b) )"
   ]
  },
  {
   "cell_type": "markdown",
   "id": "b1149e0a",
   "metadata": {},
   "source": [
    "#### Step 5 : Lower case all strings"
   ]
  },
  {
   "cell_type": "markdown",
   "id": "5adc35a8",
   "metadata": {},
   "source": [
    "Check & Learn : Lower case a string "
   ]
  },
  {
   "cell_type": "code",
   "execution_count": 18,
   "id": "20ed6910",
   "metadata": {},
   "outputs": [],
   "source": [
    "#'BANGLADESH'.lower()\n",
    "#'Bangladesh'.lower()"
   ]
  },
  {
   "cell_type": "code",
   "execution_count": 17,
   "id": "4a28b093",
   "metadata": {},
   "outputs": [
    {
     "name": "stdout",
     "output_type": "stream",
     "text": [
      "['feature', 'interactions', 'in', 'xgboostkshitij', 'goyal', 'sebastijan', 'dumancic', 'hendrik', 'blockeelku', 'leuven', 'belgiumabstract', 'in', 'this', 'paper', 'we', 'investigate', 'how', 'feature', 'interactions', 'canbe', 'identi', 'ﬁed', 'to', 'be', 'used', 'as', 'constraints', 'in', 'gradient', 'boosting', 'tree', 'mod-els', 'through', 'xgboost’s', 'implementation', 'our', 'results', 'show', 'tha', 't', 'accurateidentiﬁcation', 'of', 'these', 'constraints', 'can', 'help', 'improve', 'the', 'performanc', 'eof', 'baseline', 'xgboost', 'model', 'signi', 'ﬁcantly', 'further', 'improvement', 'in', 'themodel', 'structure', 'can', 'also', 'lead', 'to', 'better', 'interpretabilitykeywords', 'feature', 'interaction', '·xgboost', '·constraints', '·interpretabil-ity1', 'introductionin', 'statistics', 'two', 'variables', 'x1andx2are', 'said', 'to', 'interact', 'when', 'the', 'e', 'ﬀect', 'ofx1on', 'a', 'target', 'variable', 'yis', 'not', 'constant', 'but', 'may', 'depend', 'on', 'the', 'value', 'of', 'x2\"eﬀect\"', 'here', 'refers', 'to', 'the', 'increase', 'or', 'decrease', 'of', 'ythat', 'is', 'caused', 'by', 'a', 'changeinx1(while', 'keeping', 'x2constant)', 'interaction', 'does', 'not', 'occur', 'in', 'linear', 'modelsof', 'the', 'formy=ax1+bx2an', 'unit', 'increase', 'of', 'x1by', '1', 'will', 'always', 'increase', 'ybya(assuming', 'x2is', 'keptconstant)', 'on', 'the', 'other', 'hand', 'a', 'model', 'of', 'the', 'formy=ax1+bx2+cx1x2does', 'have', 'interaction', 'rewriting', 'it', 'asy=', '(a+cx2)x1+bx2makes', 'clear', 'that', 'a', 'unit', 'increase', 'of', 'x1increases', 'ybya+cx2', 'hence', 'by', 'a', 'valuethat', 'depends', 'on', 'x2', 'in', 'statistics', 'a', 'common', 'way', 'to', 'detect', 'interaction', 'is', 'to', 'trainmodels', 'with', 'and', 'without', 'product', 'terms', 'and', 'check', 'whether', 'the', 'ver', 'sion', 'with', 'aproduct', 'term', 'signi', 'ﬁcantly', 'outperforms', 'the', 'one', 'withoutin', 'the', 'context', 'of', 'decision', 'trees', 'x1andx2do', 'not', 'interact', 'if', 'the', 'followingholds', 'whenever', 'a', 'test', 'of', 'x2is', 'used', 'either', 'x2does', 'not', 'occur', 'in', 'any', 'of', 'thebranches', 'or', 'if', 'it', 'does', 'it', 'must', 'be', 'tested', 'in', 'exactly', 'the', 'same', 'w', 'ay', 'in', 'all', 'branchesindeed', 'if', 'we', 'would', 'have', 'a', 'test', 'x1<a', 'where', 'the', 'left', 'branch', 'contains', 'x2<b', 'andthe', 'right', 'one', 'does', 'not', 'this', 'means', 'that', 'the', 'target', 'depends', 'on', 'x2ifx1<a', 'butdoes', 'not', 'depend', 'on', 'it', 'if', 'x1>a', 'that', 'is', 'the', 'e', 'ﬀect', 'ofx2onyclearly', 'dependson', 'the', 'value', 'of', 'x1', 'obviously', 'having', 'identical', 'sub-trees', 'in', 'the', 'left', 'and', 'righ', 't']\n",
      "\n",
      "number of total strings : 291\n"
     ]
    }
   ],
   "source": [
    "_text5 = []\n",
    "for text in _text4b:\n",
    "    _text5.append(str(text).lower())\n",
    "print(_text5)\n",
    "print('')\n",
    "print( 'number of total strings :', len(_text5) )"
   ]
  },
  {
   "cell_type": "markdown",
   "id": "ccca2549",
   "metadata": {},
   "source": [
    "#### Step 6 : There are some compound strings, such as, seperated by dash. Need  to fix those strings."
   ]
  },
  {
   "cell_type": "markdown",
   "id": "effce9ec",
   "metadata": {},
   "source": [
    "Check & Learn : append() method of a list"
   ]
  },
  {
   "cell_type": "code",
   "execution_count": 20,
   "id": "b3adc14e",
   "metadata": {},
   "outputs": [],
   "source": [
    "# a = [1,2,3]\n",
    "# b = 99          # here b is a scalar\n",
    "# a.append(b)\n",
    "# print(a)"
   ]
  },
  {
   "cell_type": "markdown",
   "id": "77108de2",
   "metadata": {},
   "source": [
    "Check & Learn : extend() method of a list"
   ]
  },
  {
   "cell_type": "code",
   "execution_count": 21,
   "id": "03a45fb2",
   "metadata": {},
   "outputs": [],
   "source": [
    "# a = [1,2,3]\n",
    "# b = [99]        # here b is a single-element list\n",
    "# a.extend(b)\n",
    "# print(a)"
   ]
  },
  {
   "cell_type": "code",
   "execution_count": 18,
   "id": "a0ac96ad",
   "metadata": {},
   "outputs": [],
   "source": [
    "_text6 = []\n",
    "\n",
    "for elem in _text5:\n",
    "    e = elem.split('-')\n",
    "\n",
    "    if len(e) == 1:\n",
    "        _text6.append(e[0])\n",
    "    elif len(e) > 1:\n",
    "        _text6.extend(e)\n",
    "    else:\n",
    "        pass"
   ]
  },
  {
   "cell_type": "code",
   "execution_count": 19,
   "id": "f7010062",
   "metadata": {},
   "outputs": [
    {
     "name": "stdout",
     "output_type": "stream",
     "text": [
      "['feature', 'interactions', 'in', 'xgboostkshitij', 'goyal', 'sebastijan', 'dumancic', 'hendrik', 'blockeelku', 'leuven', 'belgiumabstract', 'in', 'this', 'paper', 'we', 'investigate', 'how', 'feature', 'interactions', 'canbe', 'identi', 'ﬁed', 'to', 'be', 'used', 'as', 'constraints', 'in', 'gradient', 'boosting', 'tree', 'mod', 'els', 'through', 'xgboost’s', 'implementation', 'our', 'results', 'show', 'tha', 't', 'accurateidentiﬁcation', 'of', 'these', 'constraints', 'can', 'help', 'improve', 'the', 'performanc', 'eof', 'baseline', 'xgboost', 'model', 'signi', 'ﬁcantly', 'further', 'improvement', 'in', 'themodel', 'structure', 'can', 'also', 'lead', 'to', 'better', 'interpretabilitykeywords', 'feature', 'interaction', '·xgboost', '·constraints', '·interpretabil', 'ity1', 'introductionin', 'statistics', 'two', 'variables', 'x1andx2are', 'said', 'to', 'interact', 'when', 'the', 'e', 'ﬀect', 'ofx1on', 'a', 'target', 'variable', 'yis', 'not', 'constant', 'but', 'may', 'depend', 'on', 'the', 'value', 'of', 'x2\"eﬀect\"', 'here', 'refers', 'to', 'the', 'increase', 'or', 'decrease', 'of', 'ythat', 'is', 'caused', 'by', 'a', 'changeinx1(while', 'keeping', 'x2constant)', 'interaction', 'does', 'not', 'occur', 'in', 'linear', 'modelsof', 'the', 'formy=ax1+bx2an', 'unit', 'increase', 'of', 'x1by', '1', 'will', 'always', 'increase', 'ybya(assuming', 'x2is', 'keptconstant)', 'on', 'the', 'other', 'hand', 'a', 'model', 'of', 'the', 'formy=ax1+bx2+cx1x2does', 'have', 'interaction', 'rewriting', 'it', 'asy=', '(a+cx2)x1+bx2makes', 'clear', 'that', 'a', 'unit', 'increase', 'of', 'x1increases', 'ybya+cx2', 'hence', 'by', 'a', 'valuethat', 'depends', 'on', 'x2', 'in', 'statistics', 'a', 'common', 'way', 'to', 'detect', 'interaction', 'is', 'to', 'trainmodels', 'with', 'and', 'without', 'product', 'terms', 'and', 'check', 'whether', 'the', 'ver', 'sion', 'with', 'aproduct', 'term', 'signi', 'ﬁcantly', 'outperforms', 'the', 'one', 'withoutin', 'the', 'context', 'of', 'decision', 'trees', 'x1andx2do', 'not', 'interact', 'if', 'the', 'followingholds', 'whenever', 'a', 'test', 'of', 'x2is', 'used', 'either', 'x2does', 'not', 'occur', 'in', 'any', 'of', 'thebranches', 'or', 'if', 'it', 'does', 'it', 'must', 'be', 'tested', 'in', 'exactly', 'the', 'same', 'w', 'ay', 'in', 'all', 'branchesindeed', 'if', 'we', 'would', 'have', 'a', 'test', 'x1<a', 'where', 'the', 'left', 'branch', 'contains', 'x2<b', 'andthe', 'right', 'one', 'does', 'not', 'this', 'means', 'that', 'the', 'target', 'depends', 'on', 'x2ifx1<a', 'butdoes', 'not', 'depend', 'on', 'it', 'if', 'x1>a', 'that', 'is', 'the', 'e', 'ﬀect', 'ofx2onyclearly', 'dependson', 'the', 'value', 'of', 'x1', 'obviously', 'having', 'identical', 'sub', 'trees', 'in', 'the', 'left', 'and', 'righ', 't']\n",
      "\n",
      "number of total strings : 294\n"
     ]
    }
   ],
   "source": [
    "print(_text6)\n",
    "print('')\n",
    "print( 'number of total strings :', len(_text6) )"
   ]
  },
  {
   "cell_type": "markdown",
   "id": "ed62884c",
   "metadata": {},
   "source": [
    "#### Step 7 : Remove stopwords"
   ]
  },
  {
   "cell_type": "markdown",
   "id": "4d04284a",
   "metadata": {},
   "source": [
    "First import `nltk` package"
   ]
  },
  {
   "cell_type": "code",
   "execution_count": 20,
   "id": "3c92a335",
   "metadata": {},
   "outputs": [],
   "source": [
    "# pip3 install nltk\n",
    "import nltk"
   ]
  },
  {
   "cell_type": "markdown",
   "id": "f6aa6187",
   "metadata": {},
   "source": [
    "Download `stopwords`"
   ]
  },
  {
   "cell_type": "code",
   "execution_count": 21,
   "id": "98e269fc",
   "metadata": {},
   "outputs": [
    {
     "name": "stderr",
     "output_type": "stream",
     "text": [
      "[nltk_data] Downloading package stopwords to\n",
      "[nltk_data]     C:\\Users\\User\\AppData\\Roaming\\nltk_data...\n",
      "[nltk_data]   Package stopwords is already up-to-date!\n"
     ]
    },
    {
     "data": {
      "text/plain": [
       "True"
      ]
     },
     "execution_count": 21,
     "metadata": {},
     "output_type": "execute_result"
    }
   ],
   "source": [
    "# use this only once\n",
    "nltk.download('stopwords')"
   ]
  },
  {
   "cell_type": "markdown",
   "id": "a0585815",
   "metadata": {},
   "source": [
    "Look at the list of english `stopwords`"
   ]
  },
  {
   "cell_type": "code",
   "execution_count": 22,
   "id": "901315c1",
   "metadata": {},
   "outputs": [
    {
     "data": {
      "text/plain": [
       "['i',\n",
       " 'me',\n",
       " 'my',\n",
       " 'myself',\n",
       " 'we',\n",
       " 'our',\n",
       " 'ours',\n",
       " 'ourselves',\n",
       " 'you',\n",
       " \"you're\",\n",
       " \"you've\",\n",
       " \"you'll\",\n",
       " \"you'd\",\n",
       " 'your',\n",
       " 'yours',\n",
       " 'yourself',\n",
       " 'yourselves',\n",
       " 'he',\n",
       " 'him',\n",
       " 'his',\n",
       " 'himself',\n",
       " 'she',\n",
       " \"she's\",\n",
       " 'her',\n",
       " 'hers',\n",
       " 'herself',\n",
       " 'it',\n",
       " \"it's\",\n",
       " 'its',\n",
       " 'itself',\n",
       " 'they',\n",
       " 'them',\n",
       " 'their',\n",
       " 'theirs',\n",
       " 'themselves',\n",
       " 'what',\n",
       " 'which',\n",
       " 'who',\n",
       " 'whom',\n",
       " 'this',\n",
       " 'that',\n",
       " \"that'll\",\n",
       " 'these',\n",
       " 'those',\n",
       " 'am',\n",
       " 'is',\n",
       " 'are',\n",
       " 'was',\n",
       " 'were',\n",
       " 'be',\n",
       " 'been',\n",
       " 'being',\n",
       " 'have',\n",
       " 'has',\n",
       " 'had',\n",
       " 'having',\n",
       " 'do',\n",
       " 'does',\n",
       " 'did',\n",
       " 'doing',\n",
       " 'a',\n",
       " 'an',\n",
       " 'the',\n",
       " 'and',\n",
       " 'but',\n",
       " 'if',\n",
       " 'or',\n",
       " 'because',\n",
       " 'as',\n",
       " 'until',\n",
       " 'while',\n",
       " 'of',\n",
       " 'at',\n",
       " 'by',\n",
       " 'for',\n",
       " 'with',\n",
       " 'about',\n",
       " 'against',\n",
       " 'between',\n",
       " 'into',\n",
       " 'through',\n",
       " 'during',\n",
       " 'before',\n",
       " 'after',\n",
       " 'above',\n",
       " 'below',\n",
       " 'to',\n",
       " 'from',\n",
       " 'up',\n",
       " 'down',\n",
       " 'in',\n",
       " 'out',\n",
       " 'on',\n",
       " 'off',\n",
       " 'over',\n",
       " 'under',\n",
       " 'again',\n",
       " 'further',\n",
       " 'then',\n",
       " 'once',\n",
       " 'here',\n",
       " 'there',\n",
       " 'when',\n",
       " 'where',\n",
       " 'why',\n",
       " 'how',\n",
       " 'all',\n",
       " 'any',\n",
       " 'both',\n",
       " 'each',\n",
       " 'few',\n",
       " 'more',\n",
       " 'most',\n",
       " 'other',\n",
       " 'some',\n",
       " 'such',\n",
       " 'no',\n",
       " 'nor',\n",
       " 'not',\n",
       " 'only',\n",
       " 'own',\n",
       " 'same',\n",
       " 'so',\n",
       " 'than',\n",
       " 'too',\n",
       " 'very',\n",
       " 's',\n",
       " 't',\n",
       " 'can',\n",
       " 'will',\n",
       " 'just',\n",
       " 'don',\n",
       " \"don't\",\n",
       " 'should',\n",
       " \"should've\",\n",
       " 'now',\n",
       " 'd',\n",
       " 'll',\n",
       " 'm',\n",
       " 'o',\n",
       " 're',\n",
       " 've',\n",
       " 'y',\n",
       " 'ain',\n",
       " 'aren',\n",
       " \"aren't\",\n",
       " 'couldn',\n",
       " \"couldn't\",\n",
       " 'didn',\n",
       " \"didn't\",\n",
       " 'doesn',\n",
       " \"doesn't\",\n",
       " 'hadn',\n",
       " \"hadn't\",\n",
       " 'hasn',\n",
       " \"hasn't\",\n",
       " 'haven',\n",
       " \"haven't\",\n",
       " 'isn',\n",
       " \"isn't\",\n",
       " 'ma',\n",
       " 'mightn',\n",
       " \"mightn't\",\n",
       " 'mustn',\n",
       " \"mustn't\",\n",
       " 'needn',\n",
       " \"needn't\",\n",
       " 'shan',\n",
       " \"shan't\",\n",
       " 'shouldn',\n",
       " \"shouldn't\",\n",
       " 'wasn',\n",
       " \"wasn't\",\n",
       " 'weren',\n",
       " \"weren't\",\n",
       " 'won',\n",
       " \"won't\",\n",
       " 'wouldn',\n",
       " \"wouldn't\"]"
      ]
     },
     "execution_count": 22,
     "metadata": {},
     "output_type": "execute_result"
    }
   ],
   "source": [
    "nltk.corpus.stopwords.words('english')"
   ]
  },
  {
   "cell_type": "markdown",
   "id": "19a8ddba",
   "metadata": {},
   "source": [
    "How can you find Bangla stopwords?"
   ]
  },
  {
   "cell_type": "code",
   "execution_count": 25,
   "id": "4a6f0928",
   "metadata": {},
   "outputs": [
    {
     "name": "stdout",
     "output_type": "stream",
     "text": [
      "['অতএব', 'অথচ', 'অথবা', 'অনুযায়ী', 'অনেক', 'অনেকে', 'অনেকেই', 'অন্তত', 'অন্য', 'অবধি', 'অবশ্য', 'অর্থাত', 'আই', 'আগামী', 'আগে', 'আগেই', 'আছে', 'আজ', 'আদ্যভাগে', 'আপনার', 'আপনি', 'আবার', 'আমরা', 'আমাকে', 'আমাদের', 'আমার', 'আমি', 'আর', 'আরও', 'ই', 'ইত্যাদি', 'ইহা', 'উচিত', 'উত্তর', 'উনি', 'উপর', 'উপরে', 'এ', 'এঁদের', 'এঁরা', 'এই', 'একই', 'একটি', 'একবার', 'একে', 'এক্', 'এখন', 'এখনও', 'এখানে', 'এখানেই', 'এটা', 'এটাই', 'এটি', 'এত', 'এতটাই', 'এতে', 'এদের', 'এব', 'এবং', 'এবার', 'এমন', 'এমনকী', 'এমনি', 'এর', 'এরা', 'এল', 'এস', 'এসে', 'ঐ', 'ও', 'ওঁদের', 'ওঁর', 'ওঁরা', 'ওই', 'ওকে', 'ওখানে', 'ওদের', 'ওর', 'ওরা', 'কখনও', 'কত', 'কবে', 'কমনে', 'কয়েক', 'কয়েকটি', 'করছে', 'করছেন', 'করতে', 'করবে', 'করবেন', 'করলে', 'করলেন', 'করা', 'করাই', 'করায়', 'করার', 'করি', 'করিতে', 'করিয়া', 'করিয়ে', 'করে', 'করেই', 'করেছিলেন', 'করেছে', 'করেছেন', 'করেন', 'কাউকে', 'কাছ', 'কাছে', 'কাজ', 'কাজে', 'কারও', 'কারণ', 'কি', 'কিংবা', 'কিছু', 'কিছুই', 'কিন্তু', 'কী', 'কে', 'কেউ', 'কেউই', 'কেখা', 'কেন', 'কোটি', 'কোন', 'কোনও', 'কোনো', 'ক্ষেত্রে', 'কয়েক', 'খুব', 'গিয়ে', 'গিয়েছে', 'গিয়ে', 'গুলি', 'গেছে', 'গেল', 'গেলে', 'গোটা', 'চলে', 'চান', 'চায়', 'চার', 'চালু', 'চেয়ে', 'চেষ্টা', 'ছাড়া', 'ছাড়াও', 'ছিল', 'ছিলেন', 'জন', 'জনকে', 'জনের', 'জন্য', 'জন্যওজে', 'জানতে', 'জানা', 'জানানো', 'জানায়', 'জানিয়ে', 'জানিয়েছে', 'জে', 'জ্নজন', 'টি', 'ঠিক', 'তখন', 'তত', 'তথা', 'তবু', 'তবে', 'তা', 'তাঁকে', 'তাঁদের', 'তাঁর', 'তাঁরা', 'তাঁাহারা', 'তাই', 'তাও', 'তাকে', 'তাতে', 'তাদের', 'তার', 'তারপর', 'তারা', 'তারৈ', 'তাহলে', 'তাহা', 'তাহাতে', 'তাহার', 'তিনঐ', 'তিনি', 'তিনিও', 'তুমি', 'তুলে', 'তেমন', 'তো', 'তোমার', 'থাকবে', 'থাকবেন', 'থাকা', 'থাকায়', 'থাকে', 'থাকেন', 'থেকে', 'থেকেই', 'থেকেও', 'দিকে', 'দিতে', 'দিন', 'দিয়ে', 'দিয়েছে', 'দিয়েছেন', 'দিলেন', 'দু', 'দুই', 'দুটি', 'দুটো', 'দেওয়া', 'দেওয়ার', 'দেওয়া', 'দেখতে', 'দেখা', 'দেখে', 'দেন', 'দেয়', 'দ্বারা', 'ধরা', 'ধরে', 'ধামার', 'নতুন', 'নয়', 'না', 'নাই', 'নাকি', 'নাগাদ', 'নানা', 'নিজে', 'নিজেই', 'নিজেদের', 'নিজের', 'নিতে', 'নিয়ে', 'নিয়ে', 'নেই', 'নেওয়া', 'নেওয়ার', 'নেওয়া', 'নয়', 'পক্ষে', 'পর', 'পরে', 'পরেই', 'পরেও', 'পর্যন্ত', 'পাওয়া', 'পাচ', 'পারি', 'পারে', 'পারেন', 'পি', 'পেয়ে', 'পেয়্র্', 'প্রতি', 'প্রথম', 'প্রভৃতি', 'প্রযন্ত', 'প্রাথমিক', 'প্রায়', 'প্রায়', 'ফলে', 'ফিরে', 'ফের', 'বক্তব্য', 'বদলে', 'বন', 'বরং', 'বলতে', 'বলল', 'বললেন', 'বলা', 'বলে', 'বলেছেন', 'বলেন', 'বসে', 'বহু', 'বা', 'বাদে', 'বার', 'বি', 'বিনা', 'বিভিন্ন', 'বিশেষ', 'বিষয়টি', 'বেশ', 'বেশি', 'ব্যবহার', 'ব্যাপারে', 'ভাবে', 'ভাবেই', 'মতো', 'মতোই', 'মধ্যভাগে', 'মধ্যে', 'মধ্যেই', 'মধ্যেও', 'মনে', 'মাত্র', 'মাধ্যমে', 'মোট', 'মোটেই', 'যখন', 'যত', 'যতটা', 'যথেষ্ট', 'যদি', 'যদিও', 'যা', 'যাঁর', 'যাঁরা', 'যাওয়া', 'যাওয়ার', 'যাওয়া', 'যাকে', 'যাচ্ছে', 'যাতে', 'যাদের', 'যান', 'যাবে', 'যায়', 'যার', 'যারা', 'যিনি', 'যে', 'যেখানে', 'যেতে', 'যেন', 'যেমন', 'র', 'রকম', 'রয়েছে', 'রাখা', 'রেখে', 'লক্ষ', 'শুধু', 'শুরু', 'সঙ্গে', 'সঙ্গেও', 'সব', 'সবার', 'সমস্ত', 'সম্প্রতি', 'সহ', 'সহিত', 'সাধারণ', 'সামনে', 'সি', 'সুতরাং', 'সে', 'সেই', 'সেখান', 'সেখানে', 'সেটা', 'সেটাই', 'সেটাও', 'সেটি', 'স্পষ্ট', 'স্বয়ং', 'হইতে', 'হইবে', 'হইয়া', 'হওয়া', 'হওয়ায়', 'হওয়ার', 'হচ্ছে', 'হত', 'হতে', 'হতেই', 'হন', 'হবে', 'হবেন', 'হয়', 'হয়তো', 'হয়নি', 'হয়ে', 'হয়েই', 'হয়েছিল', 'হয়েছে', 'হয়েছেন', 'হল', 'হলে', 'হলেই', 'হলেও', 'হলো', 'হাজার', 'হিসাবে', 'হৈলে', 'হোক', 'হয়']\n"
     ]
    }
   ],
   "source": [
    "print(nltk.corpus.stopwords.words('bengali'))"
   ]
  },
  {
   "cell_type": "markdown",
   "id": "0390308d",
   "metadata": {},
   "source": [
    "Remove english stopwords from the list `_text6`"
   ]
  },
  {
   "cell_type": "code",
   "execution_count": 26,
   "id": "d91d7f99",
   "metadata": {},
   "outputs": [],
   "source": [
    "stopwords = nltk.corpus.stopwords.words('english')\n",
    "_text7 = []\n",
    "\n",
    "for w in _text6:\n",
    "    if not w.lower() in stopwords:\n",
    "        _text7.append(w)\n",
    "\n",
    "\n",
    "# write your code here"
   ]
  },
  {
   "cell_type": "code",
   "execution_count": 27,
   "id": "cb3efe52",
   "metadata": {},
   "outputs": [
    {
     "name": "stdout",
     "output_type": "stream",
     "text": [
      "['feature', 'interactions', 'xgboostkshitij', 'goyal', 'sebastijan', 'dumancic', 'hendrik', 'blockeelku', 'leuven', 'belgiumabstract', 'paper', 'investigate', 'feature', 'interactions', 'canbe', 'identi', 'ﬁed', 'used', 'constraints', 'gradient', 'boosting', 'tree', 'mod', 'els', 'xgboost’s', 'implementation', 'results', 'show', 'tha', 'accurateidentiﬁcation', 'constraints', 'help', 'improve', 'performanc', 'eof', 'baseline', 'xgboost', 'model', 'signi', 'ﬁcantly', 'improvement', 'themodel', 'structure', 'also', 'lead', 'better', 'interpretabilitykeywords', 'feature', 'interaction', '·xgboost', '·constraints', '·interpretabil', 'ity1', 'introductionin', 'statistics', 'two', 'variables', 'x1andx2are', 'said', 'interact', 'e', 'ﬀect', 'ofx1on', 'target', 'variable', 'yis', 'constant', 'may', 'depend', 'value', 'x2\"eﬀect\"', 'refers', 'increase', 'decrease', 'ythat', 'caused', 'changeinx1(while', 'keeping', 'x2constant)', 'interaction', 'occur', 'linear', 'modelsof', 'formy=ax1+bx2an', 'unit', 'increase', 'x1by', '1', 'always', 'increase', 'ybya(assuming', 'x2is', 'keptconstant)', 'hand', 'model', 'formy=ax1+bx2+cx1x2does', 'interaction', 'rewriting', 'asy=', '(a+cx2)x1+bx2makes', 'clear', 'unit', 'increase', 'x1increases', 'ybya+cx2', 'hence', 'valuethat', 'depends', 'x2', 'statistics', 'common', 'way', 'detect', 'interaction', 'trainmodels', 'without', 'product', 'terms', 'check', 'whether', 'ver', 'sion', 'aproduct', 'term', 'signi', 'ﬁcantly', 'outperforms', 'one', 'withoutin', 'context', 'decision', 'trees', 'x1andx2do', 'interact', 'followingholds', 'whenever', 'test', 'x2is', 'used', 'either', 'x2does', 'occur', 'thebranches', 'must', 'tested', 'exactly', 'w', 'ay', 'branchesindeed', 'would', 'test', 'x1<a', 'left', 'branch', 'contains', 'x2<b', 'andthe', 'right', 'one', 'means', 'target', 'depends', 'x2ifx1<a', 'butdoes', 'depend', 'x1>a', 'e', 'ﬀect', 'ofx2onyclearly', 'dependson', 'value', 'x1', 'obviously', 'identical', 'sub', 'trees', 'left', 'righ']\n",
      "\n",
      "number of total strings : 178\n"
     ]
    }
   ],
   "source": [
    "print( _text7 )\n",
    "print('')\n",
    "print( 'number of total strings :', len(_text7) )"
   ]
  },
  {
   "cell_type": "markdown",
   "id": "e3d74bd4",
   "metadata": {},
   "source": [
    "#### Step 8 : Stemming words   \n",
    "\n",
    "`!!!! Use this step with caution !!!!`"
   ]
  },
  {
   "cell_type": "code",
   "execution_count": 28,
   "id": "6b38e8ba",
   "metadata": {},
   "outputs": [],
   "source": [
    "from nltk.stem.snowball import EnglishStemmer"
   ]
  },
  {
   "cell_type": "code",
   "execution_count": 29,
   "id": "12a1dcc8",
   "metadata": {},
   "outputs": [
    {
     "name": "stdout",
     "output_type": "stream",
     "text": [
      "['featur', 'interact', 'xgboostkshitij', 'goyal', 'sebastijan', 'dumanc', 'hendrik', 'blockeelku', 'leuven', 'belgiumabstract', 'paper', 'investig', 'featur', 'interact', 'canb', 'identi', 'ﬁed', 'use', 'constraint', 'gradient', 'boost', 'tree', 'mod', 'el', 'xgboost', 'implement', 'result', 'show', 'tha', 'accurateidentiﬁc', 'constraint', 'help', 'improv', 'performanc', 'eof', 'baselin', 'xgboost', 'model', 'signi', 'ﬁcant', 'improv', 'themodel', 'structur', 'also', 'lead', 'better', 'interpretabilitykeyword', 'featur', 'interact', '·xgboost', '·constraint', '·interpretabil', 'ity1', 'introductionin', 'statist', 'two', 'variabl', 'x1andx2ar', 'said', 'interact', 'e', 'ﬀect', 'ofx1on', 'target', 'variabl', 'yis', 'constant', 'may', 'depend', 'valu', 'x2\"eﬀect\"', 'refer', 'increas', 'decreas', 'ythat', 'caus', 'changeinx1(whil', 'keep', 'x2constant)', 'interact', 'occur', 'linear', 'modelsof', 'formy=ax1+bx2an', 'unit', 'increas', 'x1bi', '1', 'alway', 'increas', 'ybya(assum', 'x2is', 'keptconstant)', 'hand', 'model', 'formy=ax1+bx2+cx1x2do', 'interact', 'rewrit', 'asy=', '(a+cx2)x1+bx2mak', 'clear', 'unit', 'increas', 'x1increas', 'ybya+cx2', 'henc', 'valuethat', 'depend', 'x2', 'statist', 'common', 'way', 'detect', 'interact', 'trainmodel', 'without', 'product', 'term', 'check', 'whether', 'ver', 'sion', 'aproduct', 'term', 'signi', 'ﬁcant', 'outperform', 'one', 'withoutin', 'context', 'decis', 'tree', 'x1andx2do', 'interact', 'followinghold', 'whenev', 'test', 'x2is', 'use', 'either', 'x2doe', 'occur', 'thebranch', 'must', 'test', 'exact', 'w', 'ay', 'branchesinde', 'would', 'test', 'x1<a', 'left', 'branch', 'contain', 'x2<b', 'andth', 'right', 'one', 'mean', 'target', 'depend', 'x2ifx1<a', 'butdo', 'depend', 'x1>a', 'e', 'ﬀect', 'ofx2onyclear', 'dependson', 'valu', 'x1', 'obvious', 'ident', 'sub', 'tree', 'left', 'righ']\n",
      "\n",
      "number of total strings : 178\n"
     ]
    }
   ],
   "source": [
    "stemmer = EnglishStemmer()\n",
    "\n",
    "_text8 = []\n",
    "\n",
    "for word in _text7:\n",
    "    _text8.append(stemmer.stem(word))\n",
    "\n",
    "print( _text8 )\n",
    "print('')\n",
    "print( 'number of total strings :', len(_text8) )"
   ]
  },
  {
   "cell_type": "markdown",
   "id": "e45b2224",
   "metadata": {},
   "source": [
    "## Part 3 : Porcess Data"
   ]
  },
  {
   "cell_type": "markdown",
   "id": "4abd497c",
   "metadata": {},
   "source": [
    "#### Step 1 : Save each page as a `key-value` pair in  a dictionary "
   ]
  },
  {
   "cell_type": "code",
   "execution_count": 30,
   "id": "ca3e6f07",
   "metadata": {},
   "outputs": [
    {
     "name": "stderr",
     "output_type": "stream",
     "text": [
      "Xref table not zero-indexed. ID numbers for objects will be corrected.\n"
     ]
    },
    {
     "name": "stdout",
     "output_type": "stream",
     "text": [
      "['impact', 'sampl', 'bias', 'consum', 'credit', 'score', 'perform', 'profit', 'geert', 'verstraeten', 'dirk', 'van', 'den', 'poel', 'correspond', 'author', 'dirk', 'van', 'den', 'poel', 'depart', 'market', 'ghent', 'univers', 'hoveniersberg', '24', '9000', 'ghent', 'belgium', '{geertverstraetendirkvandenpoel}@ugentb']\n",
      "\n",
      "['1', 'impact', 'sampl', 'bias', 'consum', 'credit', 'score', 'perform', 'profit', 'abstract', 'articl', 'seek', 'gain', 'insight', 'influenc', 'sampl', 'bias', 'consum', 'credit', 'score', 'model', 'consid', 'vital', 'implic', 'revenu', 'cost', 'concern', 'issu', 'repay', 'commerci', 'credit', 'predict', 'perform', 'model', 'crucial', 'sampl', 'bias', 'suggest', 'pose', 'sizeabl', 'threat', 'profit', 'due', 'implic', 'either', 'popul', 'drainag', 'bias', 'estim', 'wherea', 'previous', 'research', 'differ', 'techniqu', 'reduc', 'sampl', 'bias', 'propos', 'deploy', 'debat', 'around', 'impact', 'sampl', 'bias', 'predomin', 'held', 'theoret', 'level', 'dataset', 'use', 'studi', 'howev', 'provid', 'opportun', 'investig', 'issu', 'empir', 'set', 'base', 'data', 'mail', 'order', 'compani', 'offer', 'short', 'term', 'consum', 'credit', 'consum', 'show', 'given', 'certain', 'sampl', 'size', 'sampl', 'bias', 'signific', 'effect', 'consum', 'credit', 'score', 'perform', 'profit', 'effect', 'compos', 'inclus', 'reject', 'order', 'score', 'model', 'inclus', 'order', 'variabl', 'select', 'process', 'impact', 'effect', 'sampl', 'bias', 'consum', 'credit', 'score', 'perform', 'profit', 'limit', 'consum', 'credit', 'score', 'mere', 'increas', 'sampl', 'size', 'bias', 'sampl', 'impact', 'sampl', 'bias', 'like', 'reduc', 'henc', 'conclud', 'possibl', 'impact', 'reduct', 'sampl', 'bias', 'modest', 'consum', 'credit', 'score', 'model', 'attent', 'might', 'optim', 'focus', 'factor', 'lead', 'improv', 'consum', 'credit', 'score', 'keyword', 'consum', 'credit', 'score', 'sampl', 'bias', 'reject', 'infer']\n",
      "\n",
      "['2', '1', 'introduct', 'paper', 'term', 'credit', 'score', 'use', 'common', 'denomin', 'statist', 'method', 'use', 'classifi', 'applic', 'credit', 'good', 'bad', 'risk', 'class', 'use', 'various', 'predict', 'variabl', 'applic', 'form', 'extern', 'data', 'supplier', 'compani', 'record', 'statist', 'model', 'industri', 'often', 'term', 'scorecard', 'use', 'yield', 'estim', 'probabl', 'default', 'typic', 'accept', 'reject', 'decis', 'taken', 'compar', 'estim', 'probabl', 'default', 'suitabl', 'threshold', '(see', 'eg', 'hand', 'henley', '1997)', 'sinc', 'begin', 'credit', 'score', 'techniqu', 'issu', 'sampl', 'bias', 'rapid', 'grown', 'becom', 'intrigu', 'topic', 'credit', 'score', 'domain', '(see', 'eg', 'chandler', 'coffman', '1977)', 'challeng', 'lie', 'estim', 'default', 'probabl', 'futur', 'credit', 'applic', 'use', 'model', 'train', 'skew', 'sampl', 'previous', 'accept', 'applic', 'inde', 'histor', 'reject', 'applic', 'unabl', 'observ', 'outcom', 'whether', 'applic', 'abl', 'refund', 'debt', 'reject', 'infer', '(see', 'eg', 'hand', 'henley', '1994)', 'compris', 'set', 'procedur', 'determin', 'decreas', 'bias', 'aris', 'build', 'score', 'model', 'accept', 'applic', 'eg', 'imput', 'target', 'variabl', 'reject', 'case', 'exist', 'literatur', 'domain', 'main', 'focus', 'describ', '(to', 'lesser', 'extent)', 'test', 'differ', 'procedur', 'reject', 'infer', 'paper', 'due', 'special', 'featur', 'data', 'set', 'use', 'focus', 'result', 'could', 'reach', 'perfect', 'reject', 'infer', 'would', 'occur', 'way', 'hope', 'shed', 'new', 'light', 'upon', 'relev', 'reject', 'infer', 'procedur', 'consum', 'credit', 'score', 'set', 'remaind', 'paper', 'structur', 'follow', 'section', '2', 'discuss', 'issu', 'sampl', 'bias', 'reject', 'infer', 'credit', 'score', 'literatur', 'section', '3', 'cover', 'methodolog', 'use', 'empir', 'part', 'paper', 'research', 'impact', 'sampl', 'bias', 'credit', 'score', 'perform', 'profit', 'section', '4', 'handl', 'data', 'descript', 'data', 'set', 'use', 'sampl', 'composit', 'need', 'empir', 'studi', 'section', '5', 'report', 'find', 'differ', 'research', 'questi', 'on', 'defin', 'throughout', 'paper', 'final', 'conclus', 'limit', 'issu', 'research', 'given', 'section', '6', '7', 'respect']\n",
      "\n",
      "['32', 'sampl', 'bias', 'credit', 'score', 'literatur', 'consid', 'widespread', 'use', 'statist', 'score', 'techniqu', 'consum', 'credit', 'industri', 'consid', 'longev', 'consum', 'credit', 'score', 'research', '(see', 'eg', 'myer', 'forgi', '1963', 'earli', 'application1)', 'literatur', 'surround', 'custom', 'credit', 'score', 'grow', 'steadili', '(for', 'overview', 'see', 'eg', 'thoma', '2000)', 'studi', 'focus', 'applic', 'score', '(see', 'eg', 'hand', '2001', 'overview)', 'ie', 'consid', 'decis', 'whether', 'grant', 'credit', 'potenti', 'lender', 'upon', 'applic', 'contrast', 'recent', 'introduc', 'behavior', 'score', '(see', 'eg', 'thoma', 'et', 'al', '2001)', 'perform', 'custom', 'assess', 'decis', 'make', 'purpos', 'lifetim', 'relev', 'credit', '(eg', 'whether', 'credit', 'limit', 'current', 'borrow', 'increased)', 'henc', 'focus', 'core', 'applic', 'within', 'domain', 'import', 'fascin', 'topic', 'provid', 'much', 'debat', 'credit', 'score', 'concern', 'issu', 'sampl', 'bias', 'new', 'credit', 'score', 'model', 'built', 'previous', 'compani', 'record', 'previous', 'accept', 'order', 'use', 'build', 'new', 'credit', 'score', 'henc', 'sampl', 'bias', 'aris', 'sampl', 'order', 'use', 'model', 'build', 'repres', 'through', 'door', 'applic', 'popul', '(chandler', 'coffman', '1977)', 'inde', 'mention', 'hand', 'henley', '(1994)', 'reject', 'region', 'design', 'precis', 'differ', 'non', 'trivial', 'way', 'accept', 'region', 'histor', 'sampl', 'bias', 'accus', 'introduc', 'least', 'one', 'two', 'major', 'shortcom', 'model', 'name', 'popul', 'drainag', 'bias', 'estim', 'technic', 'new', 'score', 'appli', 'custom', 'accept', 'past', '(see', 'eg', 'joan', '1994)', 'reject', 'remain', 'reject', 'lead', 'inevit', 'decreas', 'custom', 'base', 'lack', 'appropri', 'term', 'credit', 'score', 'paper', 'use', 'term', 'popul', 'drainag', 'cover', 'phenomenon', 'altern', 'score', 'appli', 'futur', 'order', 'bias', 'estim', 'would', 'result', 'credit', 'applic', 'would', 'reject', 'previous', 'credit', 'score', '(see', 'eg', 'hand', 'henley', '1994)', 'understand', 'consequ', 'propos', 'negat', 'influenc', 'compani', 'profit', 'consid', 'first', 'intrigu', 'problem', 'hand', 'second', 'initi', 'report', 'sizeabl', 'influenc', 'sampl', 'bias', 'use', 'discrimin', 'analysi', '(averi', '1981)', 'previous', 'research', 'histor', 'focus', 'imput', 'techniqu', 'wherebi', 'one', 'attempt', 'predict', '1', 'studi', 'previous', 'studi', 'deal', 'develop', 'numer', 'rate', 'system', 'cite', 'date', 'back', '1940s']\n",
      "\n",
      "['4the', 'outcom', 'previous', 'reject', 'order', 'henceforth', 'call', 'reject', 'infer', 'fact', 'research', 'possibl', 'method', 'reject', 'infer', 'date', 'back', 'almost', 'far', 'begin', 'credit', 'score', '(see', 'eg', 'hsia', '1978)', 'overview', 'method', 'wide', 'ly', 'avail', '(see', 'eg', 'joan', '1994', 'hand', 'henley', '1997)', 'might', 'use', 'cover', 'briefli', 'idea', 'behind', 'two', 'renown', 'reject', 'infer', 'techniqu', 'includ', 'augment', 'accept', 'order', 'weigh', 'invers', 'proport', 'probabl', 'order', 'accept', 'order', 'increas', 'impact', 'der', 'compar', 'order', 'reject', 'iter', 'reclassif', 'reject', 'order', 'score', 'discret', 'use', 'classif', 'rule', 'deriv', 'accept', 'order', 'model', 'estim', 'divid', 'data', 'sampl', 'size', 'origin', 'accept', 'reject', 'region', 'procedur', 'iter', 'repeat', 'converg', 'occur', '(see', 'eg', 'joan', '1994)', 'result', 'various', 'attempt', 'reject', 'infer', 'howev', 'seem', 'riski', 'best', 'lead', 'author', 'conclud', 'reliabl', 'reject', 'infer', 'imposs', '(hand', 'henley', '1994)', 'contrast', 'studi', 'reject', 'infer', 'possibl', 'impact', 'sampl', 'bias', 'custom', 'credit', 'score', 'cover', 'much', 'lesser', 'extent', 'addit', 'argu', 'rec', 'entl', 'tha', 'u', 'se', 'di', 'sc', 'ri', 'mi', 'nant', 'nal', 'ysi', 'tsel', 'f', 'ntroduc', 'e', 'b', '(', 'nf', 'ra)', 'w', 'hereb', 'previous', 'find', 'concern', 'impact', 'sampl', 'bias', '(in', 'eg', 'averi', '1981)', 'reconsid', 'shortag', 'random', 'sampl', 'reject', 'order', 'mention', 'frequent', 'cost', 'involv', 'gain', 'data', 'often', 'mention', 'breath', '(see', 'eg', 'hand', 'henley', '1994', '1997)', 'due', 'fact', 'data', 'set', 'use', 'studi', 'contain', 'real', 'outcom', 'valu', 'sizeabl', 'group', 'order', 'reject', 'statist', 'score', 'process', 'abl', 'assess', 'import', 'sampl', 'bias', 'upper', 'limit', 'benefit', 'could', 'result', 'use', 'model', 'reject', 'infer', 'henc', 'lie', 'within', 'ambit', 'studi', 'test', 'perform', 'propos', 'reject', 'infer', 'method', 'given', 'fact', 'reject', 'infer', 'deal', 'attempt', 'infer', 'true', 'creditworthi', 'status', 'reject', 'applic', '(hand', 'henley', '1994)', 'would', 'seem', 'benefici', 'estim', 'maxim', 'improv', 'could', 'reach', 'imput', 'method', '100', '%', 'correct']\n",
      "\n",
      "['53', 'methodolog', '31', 'general', 'outlay', 'studi', 'mention', 'earlier', 'special', 'featur', 'data', 'set', 'use', 'exist', 'fact', 'avail', 'real', 'outcom', 'sizeabl', 'set', 'custom', 'reject', 'score', 'process', 'sampl', 'borrow', 'nceforth', 'refer', 'calibr', 'set', 'detail', 'data', 'set', 'form', 'main', 'topic', 'section', '4', 'paper', 'section', 'describ', 'calibr', 'set', 'use', 'current', 'studi', 'first', 'foremost', 'clear', 'advantag', 'set', 'twofold', 'allow', 'research', 'includ', 'order', 'model', 'build', 'process', 'equal', 'valuabl', 'order', 'use', 'construct', 'holdout', 'sampl', 'way', 'possibl', 'mimic', 'behavior', 'score', 'set', 'order', 'proport', 'henc', 'repres', 'through', 'door', 'applic', 'popul', 'discuss', 'earlier', 'studi', 'rough', 'focus', 'three', 'part', 'use', 'calibr', 'set', 'first', 'attempt', 'acknowledg', 'problem', 'result', 'sampl', 'bias', 'henc', 'first', 'research', 'question', '(henceforth', 'call', 'q1)', 'investig', 'whether', 'sampl', 'bias', 'occur', 'test', 'perform', 'classifi', 'built', 'order', 'accept', 'score', 'yet', 'appli', 'calibr', 'sampl', 'use', 'extens', 'variabl', 'select', 'procedur', 'propos', 'furniv', 'wilson', '(1974)', 'investig', 'whether', 'differ', 'characterist', 'would', 'prevail', 'calibr', 'sampl', 'includ', 'variabl', 'select', 'process', 'inde', 'studi', 'joan', '(1994)', 'indic', 'common', 'practic', 'use', 'variabl', 'select', 'procedur', 'detect', 'small', '–', 'yet', 'effect', '–', 'subset', 'total', 'list', 'potenti', 'variabl', 'utter', 'model', 'deriv', 'previous', 'accept', 'applic', 'may', 'fail', 'take', 'account', 'relev', 'risk', 'characterist', 'crucial', 'studi', 'second', 'research', 'question', '(q2)', 'attempt', 'estim', 'gain', 'perform', 'outcom', 'reject', 'order', 'would', 'avail', 'step', 'compar', 'perform', 'model', 'sampl', 'size', 'n', 'contain', 'previous', 'accept', 'order', 'versus', 'model', 'equal', 'sampl', 'size', 'n', 'contain', 'sampl', 'accept', 'reject', 'order', 'proport', 'ratio', 'accept', 'reject', 'order', 'applic', 'popul', '–', 'henceforth', 'refer', 'proport', 'effort', 'clear', 'distinguish', 'bene', 'fit', 'proport', 'use', 'differ', 'order', 'train', 'data', 'set', 'benefit', 'aris', 'applic', 'variabl', 'select', 'procedur', 'proport', 'sampl', 'clear', 'model', 'test', 'proport', 'holdout', 'sampl', 'conclud', 'subsect', 'test']\n",
      "\n",
      "['6whether', 'mimick', 'proport', 'increas', 'predict', 'perform', 'profit', 'given', 'certain', 'sampl', 'size', 'sampl', 'size', 'held', 'constant', 'analysi', 'describ', 'last', 'research', 'question', '(q3)', 'evalu', 'impact', 'variat', 'sampl', 'size', 'credit', 'score', 'perform', 'profit', 'consum', 'credit', 'score', 'set', 'like', 'sampl', 'size', 'accept', 'order', 'larg', 'er', 'sampl', 'size', 'proport', 'sampl', 'inde', 'one', 'consid', 'accept', 'rate', 'α', 'percentag', 'reject', 'order', 'outcom', 'avail', 'σ', 'set', 'accept', 'order', 'larger', 'whenev', 'α', '>', 'ασ', '+', '(1', '', '', 'α)σ', 'henc', 'α', '>', 'σ', 'sinc', 'accept', 'rate', 'often', 'rather', 'high', 'consum', 'credit', 'score', '(hand', 'henley', '1997)', 'situat', 'consid', 'like', 'henc', 'sinc', 'increas', 'sampl', 'size', 'expect', 'non', 'negat', 'influenc', 'model', 'perform', 'plausibl', 'possibl', 'improv', 'stem', 'proport', 'reduc', 'whenev', 'sampl', 'size', 'set', 'accept', 'order', 'augment', 'conclud', 'make', 'trade', 'proport', 'sampl', 'size', 'general', 'purpos', 'studi', 'describ', 'methodolog', 'decis', 'made', 'result', 'choic', 'iter', 'resampl', 'procedur', 'use', 'logist', 'regress', 'analysi', 'monitor', 'three', 'differ', 'perform', 'indic', 'addit', 'perform', 'sensit', 'analysi', 'test', 'robust', 'find', 'reason', 'behind', 'decis', 'present', '32', 'credit', 'score', 'techniqu', 'recent', 'research', 'credit', 'score', 'focus', 'compar', 'perform', 'differ', 'credit', 'score', 'techniqu', 'neural', 'network', 'decis', 'tree', 'k', 'nearest', 'neighbour', 'support', 'vector', 'machin', 'discrimin', 'analysi', 'surviv', 'analysi', 'logist', 'regress', '(see', 'eg', 'baesen', 'et', 'al', '2003', 'stepanova', 'thoma', '2002', 'desai', 'et', 'al', '1996', 'davi', 'et', 'al', '1992)', 'main', 'conclus', 'ef', 'fort', 'differ', 'techniqu', 'often', 'reach', 'compar', 'perform', 'level', 'wherebi', 'tradit', 'statist', 'method', 'logist', 'regress', 'perform', 'well', 'credit', 'score', 'henc', 'paper', 'use', 'latter', 'method', 'model', 'credit', 'risk', 'two', 'ason', 'confirm', 'choic', 'first', 'sever', 'author', 'consid', 'logist', 'regress', 'one', 'main', 'stalwart', 'today', 'scorecard', 'builder', '(see', 'eg', 'thoma', '2000', 'hand', 'henley', '1997)', 'second', 'discrimin', 'analysi', 'anoth', 'techniqu', 'ex', 'tensiv', 'use', 'credit', 'analysi']\n",
      "\n",
      "['7(rosenberg', 'gleit', '1994)', 'proven', 'introduc', 'bias', 'use', 'extrapol', 'beyond', 'accept', 'region', '(hand', 'henley', '1994', 'feelder', '2000', 'eisenbei', '1977)', 'technic', 'repres', 'logist', 'regress', 'analysi', '(also', 'call', 'logit', 'analysis)', 'regress', 'techniqu', 'depend', 'variabl', 'latent', 'variabl', 'dummi', 'variabl', 'yi', 'observ', '(maddala', '1992)', '1', 'borrow', 'default', '0', 'borrow', 'abl', 'refund', 'debt', 'paramet', '(b0…b', 'k)', 'k', 'predict', 'characterist', 'use', 'typic', 'estim', 'use', 'maximum', 'likelihood', 'procedur', 'default', 'probabl', 'express', 'follow', 'p(y=', '1|', 'x)', '=', 'p', '1(x)', '=', ')', '(11', '011k', 'kxb', 'xbbe+', '+', '+', '−+', '33', 'perform', 'measur', 'agreement', 'recent', 'studi', 'perform', 'measur', 'classif', 'crucial', '(see', 'eg', 'baesen', 'et', 'al', '2003)', 'reli', 'singl', 'perform', 'indic', 'report', 'result', 'research', 'perfor', 'manc', 'measur', 'use', 'classif', 'accuraci', 'percentag', 'case', 'correct', 'classifi', '(pcc)', 'area', 'receiv', 'oper', 'characterist', 'curv', '(auc)', 'profit', 'new', 'score', 'first', 'last', 'measur', 'report', 'result', 'base', 'fix', 'threshold', 'receiv', 'oper', 'characterist', 'curv', 'illustr', 'behavior', 'classifi', 'without', 'regard', 'one', 'specif', 'threshold', 'effect', 'decoupl', 'classif', 'perform', 'factor', '(see', 'eg', 'egan', '1975', 'detail', 'hand', 'henley', '1997', 'overview', 'relat', 'perform', 'assess', 'tool', 'credit', 'score', 'domain)', 'intuit', 'interpret', 'auc', 'provid', 'estim', 'probabl', 'random', 'chosen', 'default', 'correct', 'rate', '(ie', 'ranked)', 'higher', 'random', 'select', 'non', 'default', 'thus', 'perform', 'measur', 'calcul', 'total', 'rank', 'instead', 'discret', 'version', 'clear', 'independ', 'threshold', 'appli', 'ex', 'post', 'note', 'probabl', 'equal', '05', 'random', 'rank', 'use', 'pcc', 'auc', 'proven', 'valu', 'relat', 'domain', 'binari', 'classif', 'eg', 'direct', 'mail', 'target', '(see', 'eg', 'baesen', 'et', 'al', '2002)', 'addit', 'sinc', 'feasibl', 'trace', 'back', 'revenu', 'cost', 'individu', 'yi', '=']\n",
      "\n",
      "['8order', 'sinc', 'profit', 'definit', 'critic', 'perform', 'measur', 'busi', 'context', 'includ', 'third', 'credit', 'score', 'perform', 'measur', 'use', 'studi', '34', 'resampl', 'procedur', 'throughout', 'differ', 'empir', 'analys', 'studi', 'resampl', 'procedur', 'use', 'assess', 'varianc', 'performanc', 'e', 'indic', 'consid', 'low', 'proport', 'default', 'data', 'set', 'use', 'studi', 'draw', 'sampl', 'n', 'point', 'without', 'replac', 'n', 'point', 'origin', 'data', 'set', 'alloc', 'equal', 'amount', 'default', 'train', 'holdout', 'sampl', 'henc', 'use', 'stratifi', 'resampl', 'procedur', 'repartit', 'data', 'perform', '100', 'time', 'differ', 'differ', 'model', 'comput', 'within', 'everi', 'iter', '(ie', 'pair', 'comparisons)', '35', 'sensit', 'analysi', 'one', 'could', 'argu', 'valu', 'reject', 'infer', 'driven', 'extent', 'truncat', 'relat', 'size', 'reject', 'region', 'order', 'ensur', 'valid', 'result', 'use', 'sensit', 'analysi', 'treat', 'previous', 'margin', 'accept', 'order', '(the', 'order', 'probabl', 'default', 'close', 'still', 'threshold)', 'reject', 'order', 'extent', '70', '%', 'total', 'applic', 'credit', 'consid', 'histor', 'accept', 'consid', 'hand', 'henley', '(1997', 'p526)', 'expertis', 'normal', 'accept', 'rate', 'mail', 'order', 'consum', 'credit', 'henc', 'given', 'histor', 'score', 'order', 'pretend', 'order', 'reject', 'actual', 'accept', 'abl', 'includ', 'calibr', 'sampl', '4', 'data', 'descript', 'sampl', 'composit', '41', 'data', 'descript', 'research', 'use', 'data', 'larg', 'belgian', 'direct', 'mail', 'order', 'compani', 'offer', 'consum', 'credit', 'custom', 'catalogu', 'offer', 'articl', 'categori', 'divers', 'furnitur', 'electro', 'garden', 'diy', 'equip', 'jewelri', 'perform', 'model', 'moment', 'former', 'credit', 'score', '–', 'construct', 'intern', 'compani', 'special', 'consum', 'credit', 'score', '–', 'updat', 'sinc', 'use', '6', 'year', 'model', 'purpos', 'use', 'data', 'short', 'term', 'credit', 'order', 'place', 'juli', '1st', '2000', 'februari', '1st', '2002', 'credit', 'repay', 'inform']\n",
      "\n",
      "['9februari', '1st', '2003', 'within', 'period', 'credit', 'observ', 'refund', 'possibl', 'indic', 'good', 'versus', 'bad', 'credit', 'repay', 'within', '12', 'month', 'follow', 'remaind', 'section', 'tri', 'clarifi', 'way', 'data', 'use', 'studi', 'contain', 'sever', 'advantag', 'compar', 'data', 'use', 'previous', 'research', 'order', 'howev', 'crucial', 'describ', 'compani', 'order', 'handl', 'process', 'detail', 'attempt', 'order', 'process', 'focal', 'compani', 'bipartit', 'first', 'order', 'alway', 'score', 'automat', 'score', 'procedur', 'previous', 'call', 'former', 'credit', 'score', 'howev', 'addit', 'procedur', 'independ', 'manual', 'select', 'procedur', '(also', 'call', 'judgment', 'procedure)', 'use', 'order', 'specif', 'characterist', 'henc', 'select', 'rather', 'larg', 'set', 'order', 'handl', 'manual', 'regardless', 'score', 'therefor', 'sinc', 'score', 'order', 'track', 'possibl', 'assign', 'order', 'exclus', 'one', 'six', 'possibl', 'order', 'rout', 'given', 'tabl', '1', 'manual', 'accept', 'overrul', 'yet', 'alway', 'appli', 'henc', 'ex', 'post', 'defin', 'six', 'possibl', 'order', 'flow', 'order', 'handl', 'judgment', 'method', 'handl', 'accept', 'reject', 'accept', 'a1', '32503', 'ob', '528', 'default', '(162', '%)', 'a2', '3536', 'ob', '101', 'default', '(286', '%)', 'r3', '2844', 'ob', 'score', 'method', 'reject', 'r1', '234', 'ob', 'a3', '2009', 'ob', '107', 'default', '(533', '%)', 'r2', '3228', 'ob', 'tabl', '1', 'order', 'flow', 'frequenc', 'order', 'give', 'clear', 'overview', 'relev', 'group', 'studi', 'figur', '1', 'indic', 'positionin', 'g', 'differ', 'group', 'accord', 'e', 'x', 'n', 'g', 'c', 'r', 'e', 'c', 'r', 'e', 'n', 'e', 'h', 'w', 'e', 'h', 'v', 'e', 'b', 'r', 'acket', 'tradit', 'terminolog', 'concern', 'overrid', 'high', 'low', 'condit', 'code', 'depend', 'variabl', 'studi', 'note', 'code', 'default', '1', 'non', 'default', '0', 'often', 'literatur', 'revers', 'code', 'used2', 'addit', 'term', 'overrid', '2', 'note', 'follow', 'publish', 'credit', 'score', 'applic', 'shall', 'consid', 'differ', 'kind', 'default', 'yet', 'mere', 'distinguish', 'good', 'bad']\n",
      "\n",
      "['10', 'figur', '1', 'order', 'flow', 'visual', 'realli', 'correspond', 'tradit', 'connot', 'sinc', 'decis', 'treat', 'order', 'manual', 'autonom', 'decis', 'mean', 'base', 'score', 'automat', 'score', 'procedur', 'yet', 'set', 'disjunct', 'decis', 'rule', 'one', 'criteria', 'met', 'order', 'process', 'manual', 'sever', 'consequ', 'drawn', 'knowledg', 'order', 'handl', 'process', 'compani', 'case', 'crucial', 'studi', 'first', 'note', 'group', 'order', 'accept', 'score', 'yet', 'reject', 'manual', 'decis', '(ie', 'order', 'term', \"r3')\", 'littl', 'import', 'studi', 'main', 'reject', 'strateg', 'and/or', 'legal', 'reason', '(eg', 'age', 'un', 'der', '18)', 'thus', 'cannot', 'serv', 'model', 'process', 'inde', 'follow', 'hand', 'henley', '(1997)', 'high', 'side', 'overrid', 'lead', 'bias', 'sampl', 'relev', 'applic', 'popul', 'defin', 'exclus', 'elimin', 'high', 'side', 'overrid', 'second', 'score', 'accept', '36039', 'relev', 'order', 'yet', 'reject', 'total', '5471', 'order', 'result', 'cceptanc', 'rate', '868', '%', 'third', 'latter', 'set', '2009', 'order', 'overridden', '(the', 'order', 'term', \"a3')\", 'henc', 'case', 'provid', 'sizeabl', 'sampl', 'reject', 'case', 'contain', 'default', 'inform', 'inde', 'object', 'reason', 'order', 'accept', '(they', 'high', 'probabl', 'defaulting)', 'accord', 'automat', 'score', 'procedur', 'still', 'accept', 'regardless', 'decis', 'rule', 'mention', '95%', 'order', 'reject', 'score', 'order', 'handl', 'judgment', 'process', '(cf', 'cell', 'r1', 'tabl', '1', 'compris', '234', 'orders)', 'henc', 'decis', 'accept', 'order', 'reject', 'score', 'larg', 'extent', 'driven', 'manual', 'decis', 'make', 'differ', 'compani', 'employe', 'reli', 'differ', 'belief', 'credit', 'risk', 'sampl', 'order', 'permit', 'automat', 'score', 'valueaccept', 'automat', 'process', 'reject', 'automat', 'process', 'high', 'side', 'overrid', 'final', 'state', '=', 'reject', 'low', 'side', 'overrid', 'final', 'state', '=', 'accept', 'r3', '2844', 'ob', 'a3', '2009', 'ob', 'a1', '&', 'a2', '36039', 'ob', 'r1', '&', 'r2', '3462', 'ob', 'threshold']\n",
      "\n",
      "['11the', 'analys', 'propos', 'studi', 'previous', 'call', 'calibr', 'sampl', '42', 'sampl', 'composit', 'research', 'analysi', 'propos', 'methodolog', 'section', 'requir', 'use', 'differ', 'sampl', 'consid', 'import', 'sampl', 'studi', 'describ', 'data', 'use', 'detail', '421', 'q1', 'detect', 'sampl', 'bias', 'a)', 'underperform', 'score', 'reject', 'order', 'order', 'detect', 'whether', 'model', 'train', 'order', 'accept', 'score', 'better', 'abl', 'predict', 'similar', 'order', 'order', 'calibr', 'set', '50', '%', 'order', 'accept', 'score', 'use', 'train', 'model', 'holdout', 'sampl', 'remain', '50', '%', 'accept', 'order', 'compar', 'total', 'calibr', 'sampl', 'remind', 'reader', 'sampl', 'procedur', 'repeat', '100', 'time', 'stratifi', 'sampl', 'procedur', 'use', 'b)', 'variabl', 'select', 'process', 'order', 'detect', 'whether', 'proport', 'influenc', 'variabl', 'select', 'process', 'compar', 'variabl', 'select', 'sampl', '50', '%', 'accept', 'order', 'proport', 'sampl', 'constitut', '50', '%', 'calibr', 'sampl', '(ie', '1005', 'reject', 'orders)', 'sampl', 'accept', 'order', '(6617', 'accept', 'orders)', 'ensur', 'proport', 'trough', 'door', 'applic', 'popul', '(ie', '36039', 'accept', 'versus', '5471', 'reject', 'orders)', '422', 'q2', 'influenc', 'sampl', 'bias', 'research', 'question', 'test', 'effect', 'proport', 'given', 'certain', 'sampl', 'size', 'henc', 'holdout', 'sampl', 'use', 'consist', '50', '%', 'order', 'calibr', 'sampl', '(ie', '1004', 'reject', 'orders)', 'sampl', 'accept', 'order', '(6617', 'accept', 'orders)', 'ensur', 'proporti', 'onal', 'trough', 'door', 'applic', 'popul', 'term', 'train', 'data', 'compar', 'model', 'built', 'remain', '1005', 'reject', 'order', 'proport', 'sampl', 'accept', 'order', '(6617', 'accept', 'orders)', 'sampl', '7622', 'accept', 'order', 'visual', 'sampl', 'procedur', 'found', 'appendix', '1']\n",
      "\n",
      "['12consid', 'possibl', 'impact', 'ratio', 'accept', 'versus', 'reject', 'order', 'result', 'follow', 'hand', 'henley', 'suggesti', '(1997', 'p', '526)', 'sensit', 'analysi', 'perform', 'wherebi', '70', '%', 'order', 'treat', 'histor', 'accept', 'order', 'real', 'threshold', 'defin', 'probabl', 'default', '004', 'analysi', 'reconstruct', 'situat', 'order', 'would', 'reject', 'default', 'probabl', 'la', 'rger', '001743', 'henc', 'sampl', '6833', 'order', 'append', 'calibr', 'sampl', 'ensur', 'half', 'sampl', 'use', 'model', 'build', 'half', 'use', 'model', 'test', 'case', 'holdout', 'sampl', 'consist', '50%', 'order', 'calibr', 'sampl', '(4421', 'rejec', 'ted', 'orders)', 'sampl', 'accept', 'order', '(10494', 'accept', 'orders)', 'ensur', '70', '%', 'proport', 'order', 'check', 'impact', 'sampl', 'bias', 'credit', 'score', 'perform', 'model', 'built', 'proport', 'sampl', '4421', 'reject', '10494', 'accept', 'order', 'compar', 'model', 'built', 'sampl', '14915', 'order', 'remind', 'reader', 'sampl', 'procedur', 'repeat', '100', 'time', 'stratifi', 'sampl', 'procedur', 'use', 'ensur', 'equal', 'ratio', 'default', 'train', 'versus', 'holdout', 'sampl', '423', 'q3', 'proport', 'versus', 'sampl', 'size', 'research', 'question', 'evalu', 'impact', 'increas', 'sampl', 'size', 'set', 'order', 'accept', 'score', 'procedur', 'henc', 'compar', 'effect', 'proport', 'given', 'unequ', 'sampl', 'size', 'order', 'evalu', 'effect', 'use', 'setup', 'previous', 'research', 'question', 'howev', 'set', '21800', 'order', 'use', 'previous', 'analysi', 'split', '50', 'sampl', '436', 'order', 'sampl', 'contain', 'averag', '76', 'default', 'sampl', 'ad', 'success', 'predict', 'perform', 'compar', 'holdout', 'sampl', 'proport', 'applic', 'popul', 'order', 'test', 'signific', 'differ', 'process', 'repeat', '100', 'time', '43', 'variabl', 'creation', 'concept', 'depend', '(c', 'lassification)', 'variabl', 'term', 'independ', 'variabl', 'author', 'reli', 'heavili', 'experi', 'manag', 'compani', 'well', 'find', 'previous', 'research', 'term', 'depend', 'variabl', 'use', 'fact', 'whether', 'third', 'remind', 'sent', 'custom', 'moment', 'custom', 'charg', 'delay']\n",
      "\n",
      "['13refund', 'remind', 'realli', 'urg', 'custom', 'repay', 'variabl', 'histor', 'use', 'compani', 'investig', 'default', 'behavior3', 'custom', 'characterist', 'use', 'studi', 'belong', 'tradit', 'set', 'characterist', 'use', 'credit', 'score', 'purpos', 'howev', 'due', 'fact', 'consum', 'credit', 'set', 'strateg', 'decis', 'compani', 'limit', 'inform', 'inquir', 'upon', 'applic', 'reli', 'compani', 'credit', 'record', 'nevertheless', 'also', 'abl', 'includ', 'characterist', 'cover', 'demograph', 'inform', 'occup', 'financi', 'inform', '(eg', 'number', 'credit', 'still', 'open)', 'default', 'inform', '(eg', 'rate', 'credit', 'bureau', 'report', 'ow', 'n', 'compani', 'default', 'information)', 'list', 'descript', '45', 'characterist', 'use', 'studi', 'found', 'appendix', '2', '5', 'result', '51', 'q1', 'detect', 'sampl', 'bias', '511', 'q1a', 'underperform', 'score', 'reject', 'order', 'consid', 'sampl', 'bias', 'basic', 'assumpt', 'score', 'model', 'built', 'accept', 'order', 'perform', 'signific', 'wors', 'order', 'would', 'reject', 'previous', 'score', 'order', 'would', 'accept', 'previous', 'score', 'result', 'first', 'step', 'confirm', 'hypothesi', 'model', 'train', 'order', 'accept', 'score', 'test', 'similar', 'order', 'compar', 'model', 'test', 'order', 'reject', 'score', 'repeat', 'resampl', 'procedur', '100', 'time', 'auc', 'latter', 'set', 'averag', '812', 'percentag', 'point', 'lower', 'auc', 'first', 'set', 'differ', 'signific', 'p', '<00001', '(t', 'valu', '4802)', 'henc', 'inde', 'conclud', 'extrapol', 'score', 'toward', 'rang', 'custom', 'use', 'train', 'prove', 'erron', 'appli', 'score', 'toward', 'similar', 'order', 'train', 'set', 'degre', 'pose', 'problem', 'score', 'perform', 'whole', 'discuss', 'length', 'follow', 'section', '512', 'q1b', 'variabl', 'select', 'process', 'term', 'variabl', 'select', 'procedur', 'use', 'leap', 'bound', 'algorithm', 'furniv', 'wilson', '(1974)', 'detect', 'best', 'model', 'possibl', 'model', 'size', '3', 'inform', 'also', 'avail', 'whether', 'individu', 'order', 'eventu', 'profit', 'compani', 'use', 'third', 'remind', 'prefer', 'profit', 'inform', 'number', 'unprofit', 'order', 'low', 'degrad', 'perform', 'model', 'sever']\n",
      "\n",
      "['14(number', 'variables)', 'requir', 'minimum', 'arithmet', 'possibl', 'find', 'best', 'subset', 'without', 'examin', 'possibl', 'subsets4', 'howev', 'sinc', 'procedur', 'provid', 'likelihood', 'score', '(chi', 'square)', 'statist', 'without', 'signific', 'test', 'use', 'al', 'gorithm', 'propos', 'de', 'long', 'et', 'al', '(1988)', 'order', 'investig', 'whether', 'auc', 'model', 'given', 'model', 'size', 'differ', 'signific', 'auc', 'singl', 'model', 'contain', 'explanatori', 'effect', 'start', 'full', 'model', 'contain', '45', 'characterist', 'reduc', 'model', 'size', 'select', 'last', 'model', 'differ', 'signific', 'model', 'use', 'characterist', '005', 'signific', 'level', 'coincident', 'model', 'base', 'accept', 'order', 'model', 'built', 'proport', 'sampl', 'accept', 'reject', 'order', 'result', 'select', '31', 'characterist', '24', 'characterist', 'select', 'model', '7', 'characterist', '(ie', '23', '%)', 'differ', 'henc', 'like', '(at', 'least', 'of)', 'characterist', 'need', 'predict', 'creditworthi', 'previous', 'reject', 'order', 'differ', 'characterist', 'need', 'evalu', 'accept', 'order', 'degre', 'differ', 'influenc', 'credit', 'score', 'perform', 'profit', 'import', 'topic', 'follow', 'section', 'graphic', 'output', 'variabl', 'select', 'process', 'term', 'differ', 'test', 'given', 'appendix', '3', 'white', 'line', 'repres', 'perform', 'model', 'use', 'characterist', 'black', 'line', 'repres', 'perform', 'given', 'specif', 'model', 'size', 'number', 'variabl', 'final', 'withheld', 'repres', 'dash', 'vertic', 'line', '52', 'q2', 'influenc', 'sampl', 'bias', 'section', 'give', 'overview', 'result', 'main', 'research', 'topic', 'name', 'impact', 'sampl', 'bias', 'consum', 'credit', 'score', 'perform', 'profit', 'given', 'sampl', 'size', 'set', 'analys', 'attempt', 'assess', 'confid', 'interv', 'around', 'perform', 'indic', 'resampl', 'data', '100', 'time', 'report', 'differ', '(test', 'set)', 'performa', 'nce', 'differ', 'model', 'alway', 'comput', 'within', 'one', 'iter', 'resampl', 'procedur', 'henc', 'degre', 'freedom', 'use', 'test', '99', 'follow', 'hand', 'henley', '(1997)', 'state', 'mail', 'order', 'purchas', 'figur', '70', '%', 'accept', 'order', 'quit', 'usual', 'analys', 'perform', 'valid', 'sensit', 'analysi', 'reus', 'data', 'reconstruct', 'case', '4', 'note', 'possibl', 'subset', 'evalu', 'full', 'model', 'contain', 'n', 'variabl', 'would', 'requir', 'comput', '()∑=', '−ni', 'iinn1', '!!!', 'model', 'contain', '1…', 'n', 'variabl']\n",
      "\n",
      "['15on', '70', '%', 'applic', 'accept', 'enhanc', 'compar', 'result', 'real', 'set', '(accept', 'rate', '868', '%)', 'sensit', 'analysi', '(70', '%)', 'alway', 'present', 'side', 'side', 'enabl', 'reader', 'compar', 'result', 'perform', 'previous', 'credit', 'score', 'includ', 'perform', 'label', '“old”', 'perform', 'model', '1', 'repres', 'model', 'order', 'use', 'accept', 'score', 'procedur', 'term', 'inclus', 'order', 'train', 'sampl', 'term', 'inclus', 'order', 'variabl', 'select', 'procedur', '(label', \"aa')\", 'model', '2', 'use', 'sampl', 'order', 'accept', 'score', 'and/or', 'accept', 'manual', 'select', 'process', 'way', 'proport', 'accept', 'versus', 'reject', 'order', 'respect', 'howev', 'model', '2', 'variabl', 'select', 'procedur', 'still', 'perform', 'sampl', 'accept', 'order', \"('pa')\", 'final', 'model', '3', 'order', 'use', 'model', '2', 'variabl', 'model', 'select', 'proport', 'sampl', 'accept', 'reject', 'order', \"('pp')\", 'first', 'start', 'cover', 'credit', 'score', 'perform', 'discuss', 'profit', 'issu', '521', 'predict', 'perform', 'result', 'term', 'pcc', 'perform', 'found', 'tabl', '2', 'order', 'comput', 'result', 'probabl', 'default', 'discret', 'two', 'class', 'new', 'accept', 'new', 'reject', 'way', 'proport', 'new', 'model', 'ensur', 'henc', 'report', 'perform', 'accept', 'rate', 'would', 'appli', 'use', 'new', 'model', 'use', 'previous', 'model', 'actual', 'set', '(868', '%', 'accepted)', 'sensit', 'analysi', '(70', '%', 'accepted)', 'morrison', '08520', '06950', 'mean', 'std', 'dev', 'mean', 'std', 'dev', 'pcc', 'old', '08601', '0', '07069', '0', 'pcc', 'model', '1', 'aa', '08643', '00016', '07114', '00011', 'pcc', 'model', '2', 'pa', '08646', '00018', '07117', '00009', 'pcc', 'model', '3', 'pp', '08643', '00018', '07112', '00010', 'mean', 'valu', 'p', '>', '|t|', 'mean', 'valu', 'p', '>', '|t|', 'pcc', '2', '–', 'pcc', '1', '00003', '200', '00482', '00003', '399', '00001', 'pcc', '3', '–', 'pcc', '1', '', '26e', '6', '', '014', '08872', '', '16e', '5', '', '172', '00890', 'pcc', '3', '–', 'pcc', '2', '', '38e', '5', '', '260', '00106', '', '5e', '4', '', '823', '<0001', 'tabl', '2', 'pcc', 'perform', 'reduc', 'sampl', 'bias', 'given', 'sampl', 'size']\n",
      "\n",
      "['16', 'term', 'test', 'classif', 'accuraci', 'versus', 'random', 'model', 'use', 'formula', 'propos', 'morrison', '(1969)', 'state', 'accuraci', 'random', 'model', 'defin', 'p\\uf103', '+', '(1', '–', 'p)', '(1', '–', '\\uf103)', 'p', 'repres', 'true', 'proport', 'refund', 'order', '\\uf103', 'repres', 'proport', 'applic', 'accept', 'ed', 'credit', '(morrison', '1969', 'p', '158)', 'model', 'perform', 'signific', 'better', 'random', 'model', 'benchmark', '(p', '<0001)', 'henc', 'confid', 'model', '(also', 'previous', 'credit', 'score)', 'perform', 'reason', 'well', 'addit', 'pcc', 'new', 'model', 'signific', 'higher', 'pcc', 'previous', 'model', '(p', '<0001)', 'mean', 'differ', 'rang', '02', '2', '%', 'indic', 'clear', 'improv', 'new', 'model', 'impact', 'sampl', 'bias', 'pcc', 'perform', 'illustr', 'three', 'lower', 'row', 'tabl', '2', 'differ', 'new', 'model', 'test', 'test', 'clear', 'second', 'model', '–', 'contain', 'proport', 'sampl', 'accept', 'reject', 'order', '', '', 'perform', 'signific', 'better', 'first', 'model', 'built', 'accept', 'order', 'henceforth', 'consid', 'signific', '005', 'confid', 'level', 'furthermor', 'third', 'model', '–', 'contain', 'variabl', 'select', 'proport', 'sampl', 'reject', 'accept', 'order', '–', 'perform', 'better', 'first', 'model', 'addit', 'third', 'model', 'perform', 'signific', 'wors', 'second', 'model', 'consequ', 'second', 'model', 'perform', 'best', 'term', 'pcc', 'real', 'set', 'sensit', 'analysi', 'impact', 'pcc', 'reach', 'includ', 'calibr', 'sampl', 'proport', 'way', 'seem', 'low', '(00003)', 'especi', 'compar', 'differ', 'result', 'updat', 'model', '(00042)', 'n', 'r', 'w', 'b', 'c', 'k', 'f', 'p', 'c', 'c', 'p', 'e', 'r', 'f', 'r', 'n', 'c', 'e', 'h', 'r', 'e', 'q', 'u', 'r', 'e', 'h', 'e', 'u', 'e', 'r', 'c', 'r', 'e', 'z', 'e', 'h', 'e', 'probabl', 'default', 'model', 'evalu', 'given', 'threshold', 'howev', 'give', 'user', 'dicat', 'model', 'perform', 'threshold', 'level', 'use', 'sinc', 'auc', 'give', 'evalu', 'score', 'across', 'total', 'rang', 'default', 'probabl', 'report', 'auc', 'perform', 'tabl', '3']\n",
      "\n",
      "['17', 'actual', 'set', '(868', '%', 'accepted)', 'sensit', 'analysi', '(70', '%', 'accepted)', 'mean', 'std', 'dev', 'mean', 'std', 'dev', 'auc', 'old', '07131', '00138', '07041', '00054', 'auc', 'model', '1', 'aa', '07487', '00198', '07534', '00143', 'auc', 'model', '2', 'pa', '07550', '00182', '07584', '00117', 'auc', 'model', '3', 'pp', '07472', '00191', '07514', '00123', 'mean', 'valu', 'p', '>', '|t|', 'mean', 'valu', 'p', '>', '|t|', 'auc', '2', '–', 'auc', '1', '00063', '531', '<0001', '0005', '449', '<0001', 'auc', '3', '–', 'auc', '1', '', '0002', '', '109', '02799', '', '0002', '', '190', '00605', 'auc', '3', '–', 'auc', '2', '', '0008', '', '845', '<0001', '', '0007', '', '1358', '<0001', 'tabl', '3', 'auc', 'perform', 'reduc', 'sampl', 'bias', 'given', 'sampl', 'size', 'result', 'analysi', 'complet', 'analog', 'pcc', 'result', 'henc', 'new', 'model', 'perform', 'signific', 'better', 'previous', 'model', '(p', '<', '00001)', 'model', '2', 'perform', 'signific', 'better', 'model', '1', '3', 'statist', 'differ', '1', '3', 'improv', 'perform', 'model', '2', 'model', '1', 'seem', 'relat', 'small', 'compar', 'differ', 'result', 'updat', 'model', '52', '2', 'profit', 'sinc', 'order', 'profit', 'could', 'comput', 'individu', 'order', 'level', 'databas', 'section', 'review', 'impact', 'sampl', 'bias', 'consum', 'credit', 'score', 'profit', 'given', 'certain', 'sampl', 'size', 'consid', 'confidenti', 'data', 'author', 'unabl', 'reveal', 'absolut', 'profit', 'inform', 'therefor', 'tabl', '4', 'repres', 'relat', 'profit', 'chang', 'could', 'reach', 'introduc', 'inform', 'actual', 'set', '(868', '%', 'accepted)', 'sensit', 'analysi', '(70', '%', 'accepted)', 'mean', 'valu', 'p', '>', '|t|', 'mean', 'valu', 'p', '>', '|t|', 'profit', 'differ', '2', 'vs', '1', '00039', '531', '<0001', '00063', '393', '00002', 'profit', 'differ', '3', 'vs', '1', '0010', '933', '<0001', '00309', '1298', '<0001', 'profit', 'differ', '3', 'vs', '2', '00043', '611', '<0001', '00182', '840', '<0001', 'tabl', '4', 'profit', 'implic', 'reduc', 'sampl', 'bias', 'given', 'sampl', 'size']\n",
      "\n",
      "['18stem', 'reject', 'order', 'differ', 'comput', 'per', 'resampl', 'iter', 'averag', '100', 'resampl', 'repr', 'ent', 'test', 'null', 'hypothesi', 'differ', 'zero', 'contrast', 'result', 'classif', 'perform', 'measur', 'effect', 'bias', 'term', 'variabl', 'select', 'play', 'consid', 'credit', 'score', 'profit', 'inde', 'model', '2', 'perform', 'signific', 'better', 'model', '1', 'model', '3', 'perform', 'signific', 'better', 'model', '2', 'henc', 'e', 'model', 'use', 'calibr', 'sampl', 'reduc', 'sampl', 'bias', 'ensur', 'proport', 'accept', 'versus', 'reject', 'order', 'improv', 'variabl', 'select', 'process', 'clear', 'deliv', 'optim', 'solut', 'thus', 'confirm', 'insight', 'gain', 'credit', 'score', 'profit', 'possibl', 'differ', 'classif', 'perform', 'result', 'addit', 'compani', 'perspect', 'profit', 'relev', 'indic', 'model', 'qualiti', 'differ', 'signific', 'seem', 'low', 'exampl', 'current', 'set', '868', '%', 'accept', 'order', 'maximum', 'profit', 'gain', 'could', 'reach', 'gain', 'knowledg', 'outcom', 'reject', 'order', '(assum', 'price', 'gain', 'knowledg', 'zero)', 'would', '1', '%', 'henc', 'procedur', 'reject', 'infer', 'result', 'perfect', 'imput', 'default', 'behavior', 'reject', 'order', 'would', 'maxim', 'reach', 'improv', 'conclus', 'profit', 'realiz', 'introduc', 'inform', 'reject', 'order', 'model', 'seem', 'modest', 'especi', 'abl', 'cover', 'default', 'cost', 'includ', 'random', 'sampl', 'time', 'cost', 'involv', 'appli', 'reject', 'infer', 'procedur', 'conclud', 'section', 'detect', 'comparison', 'profit', 'implic', 'actual', 'set', 'sensit', 'analysi', 'profit', 'includ', 'calibr', 'sampl', 'rise', 'proport', 'reject', 'order', 'grow', 'larger', 'effect', 'test', 'statist', 'seem', 'logic', 'impact', 'reduct', 'sampl', 'bias', 'rise', 'sampl', 'bias', 'grow', 'size', '523', 'q3', 'proport', 'versus', 'sampl', 'size', 'result', 'previous', 'analysi', 'indic', 'improv', 'could', 'realiz', 'whenev', 'outcom', 'reject', 'order', 'would', 'avail', 'howev', 'practic', '(eg', 'also', 'current', 'application)', 'like', 'outcom', 'sampl', 'reject', 'order', 'avail', 'proven', 'earlier', 'whenev', 'accept', 'rate', 'larger', 'proport', 'reject', 'order', 'outcom', 'avail', 'sampl', 'size', 'set', 'accept', 'order', 'larger', 'sampl', 'size', 'proport', 'order', 'set']\n",
      "\n",
      "['19henc', 'plausibl', 'asymmetri', 'sampl', 'size', 'use', 'reduc', 'impact', 'sampl', 'bias', 'result', 'research', 'question', 'confirm', 'hypothesi', 'term', 'predict', 'perform', 'profit', 'surplus', 'perform', 'stem', 'includ', 'proport', 'sampl', 'decreas', '(or', 'even', 'vanishes)', 'sampl', 'size', 'set', 'accept', 'order', 'increas', 'applic', 'consid', 'predict', 'perform', 'model', 'contain', 'avail', 'order', 'accept', 'score', 'perform', 'better', 'model', 'built', 'proport', 'sampl', 'reject', 'versus', 'accept', 'order', 'howev', 'term', 'profit', 'profit', 'model', 'built', 'accept', 'order', 'rise', 'sampl', 'size', 'increas', 'profit', 'latter', 'model', 'never', 'outperform', 'profit', 'proport', 'model', 'nevertheless', 'general', 'profit', 'differ', 'seem', 'modest', 'best', 'use', 'use', 'differ', 'perform', 'indic', 'shown', 'figur', '2', 'credit', 'score', 'perform', 'profit', 'increas', 'sampl', 'size', 'output', 'analys', 'found', 'figur', '2', 'differ', 'perform', 'model', 'use', 'accept', 'order', 'versus', 'model', 'built', 'proport', 'sampl', 'plot', '50', 'increas', 'sampl', 'size', 'white', 'mark', 'use', 'whenev', 'differ', 'signific', 'wherea', 'black', 'mark', 'indic', 'signific', 'differ', 'alpha', '', '00006', '00004', '0000200000200004000060000800010', '5', '10', '15', '20', '25', '30', '35', '40', '45', '50', '001', '00050000500100150', '5', '10', '15', '20', '25', '30', '35', '40', '45', '50', '0008', '0007', '0006', '0005', '0004', '0003', '0002', '000100', '5', '10', '15', '20', '25', '30', '35', '40', '45', '50', 'pcc', 'perform', 'a', 'auc', 'perform', 'a', 'profitabilit', 'a', '', '0016', '0014', '0012', '001', '0008', '0006', '0004', '000200', '5', '10', '15', '20', '25', '30', '35', '40', '45', '50', 'profitabilit', 'p']\n",
      "\n",
      "['20level', '005', 'graph', 'label', 'a', 'whenev', 'comparison', 'made', 'mean', 'variabl', 'select', 'procedur', 'use', 'accept', 'order', 'p', 'case', 'variabl', 'select', 'procedur', 'use', 'proport', 'set', 'accept', 'versus', 'reject', 'order', 'two', 'mi', 'ssi', 'n', 'g', 'gra', 'ph', 'c', 'b', 'e', 'f', 'ound', 'n', 'ap', 'pendi', 'x', '4', 'si', 'n', 'c', 'e', 'ad', 'f', 'urther', 'n', 'si', 'ght', 'nto', 'research', 'question', '6', 'conclus', 'studi', 'author', 'attempt', 'dicat', 'quantifi', 'impact', 'sampl', 'bias', 'consum', 'credit', 'score', 'perform', 'profit', 'histor', 'sampl', 'bias', 'suggest', 'pose', 'sizeabl', 'threat', 'profit', 'due', 'implic', 'either', 'popul', 'drainag', 'bias', 'estim', 'previous', 'research', 'main', 'focus', 'offer', 'various', 'attempt', 'reduc', 'bias', 'main', 'due', 'lack', 'appropri', 'credit', 'score', 'data', 'set', 'impact', 'sampl', 'bias', 'larg', 'unexplor', 'mean', 'properti', 'data', 'avail', 'st', 'udi', 'howev', 'author', 'abl', 'assess', 'exist', 'impact', 'sampl', 'bias', 'empir', 'set', 'remaind', 'section', 'summar', 'discuss', 'result', 'analys', 'perform', 'h', 'e', 'r', 'e', 'u', 'l', 'f', 'h', 'e', 'u', 'n', 'c', 'e', 'h', 'p', 'l', 'e', 'b', 'e', 'p', 'p', 'e', 'r', 'h', 'v', 'e', 'n', 'e', 'g', 'v', 'e', 'influenc', 'credit', 'score', 'perform', 'profit', 'inde', 'first', 'model', 'train', 'accept', 'order', 'reveal', 'import', 'signific', 'und', 'rperform', 'reject', 'order', 'compar', 'perform', 'accept', 'order', 'second', 'variabl', 'select', 'procedur', 'use', 'paper', 'show', '(at', 'least', 'some)', 'characterist', 'may', 'relev', 'predict', 'creditworthi', 'previous', 'reject', 'previous', 'accept', 'order', 'third', 'import', 'order', 'quantifi', 'effect', 'sampl', 'bias', 'credit', 'score', 'perform', 'profit', 'compar', 'model', 'perform', 'model', 'built', 'accept', 'order', 'equal', 'size', 'sampl', 'accept', 'reject', 'order', 'proport', 'applic', 'po', 'pulat', 'result', 'analysi', 'indic', 'sampl', 'b', 'e', 'p', 'r', 'v', 'e', 'h', 'v', 'e', 'g', 'n', 'f', 'c', 'n', 'l', 'b', 'e', 'e', 'e', 'f', 'f', 'e', 'c', 'n', 'c', 'n', 'u', 'e', 'r', 'c', 'r', 'e', 'c', 'r', 'n', 'g', 'perform', 'profit', 'addit', 'term', 'predict', 'perform', 'negat', 'impact', 'occur', 'inclus', 'reject', 'order', 'train', 'data', 'set', 'term', 'profit', 'inclus', 'reject', 'order', 'train', 'data', 'set', 'variabl', 'select', 'procedur', 'prove', 'signific', 'impact', 'mention', 'howev', 'actual', 'set', 'sensit', 'analysi', 'impact', 'know', 'outcom', 'order', 'reject', 'score', 'limit', 'especi', 'cost', 'gain', 'knowledg', 'must', 'account', 'fourth', 'final', 'shown']\n",
      "\n",
      "['21that', 'compar', 'perform', 'level', 'reach', 'increas', 'size', 'homogen', 'sampl', 'accept', 'order', 'instead', 'introduc', 'proport', 'sampl', 'reject', 'order', 'model', 'build', 'process', 'conclud', 'theoret', 'level', 'effect', 'proport', 'prevail', 'enhanc', 'proport', 'result', 'improv', 'classif', 'accuraci', 'profit', 'howev', 'clear', 'least', 'consum', 'credit', 'set', 'result', 'benefit', 'determin', 'true', 'outcom', 'valu', 'reject', 'case', 'low', 'compani', 'resourc', 'could', 'spent', 'effici', 'handl', 'topic', 'relev', 'consum', 'credit', 'score', '7', 'limit', 'issu', 'research', 'specif', 'data', 'attempt', 'minim', 'sensit', 'analysi', 'use', 'differ', 'perform', 'measur', 'studi', 'execut', 'data', 'direct', 'mail', 'compani', 'unfortun', 'result', 'cannot', 'extrapol', 'without', 'reflect', 'toward', 'non', 'consum', 'credit', 'score', 'consid', 'specif', 'properti', 'data', 'set', 'use', 'rather', 'larg', 'percentag', 'accept', 'order', '(868', '%)', 'rather', 'low', 'percentag', 'default', '(194', '%)', 'rather', 'balanc', 'structur', 'misclassif', 'cost', '(the', 'cost', 'involv', 'default', '258', 'time', 'higher', 'profit', 'gain', 'non', 'defaulter)', 'consequ', 'would', 'use', 'replic', 'analys', 'perform', 'data', 'credit', 'offer', 'institut', 'nevertheless', 'paper', 'offer', 'workabl', 'methodolog', 'toward', 'analyz', 'impact', 'sampl', 'bias', 'credit', 'score', 'environ', 'specif', 'sensit', 'analysi', 'offer', 'procedur', 'implement', 'investig', 'impact', 'sampl', 'bias', 'whenev', 'histor', 'score', 'valu', 'record', 'research', 'larg', 'depend', 'avail', 'credit', 'score', 'dataset', '8', 'acknowledg', 'author', 'wish', 'thank', 'jonathan', 'bure', 'z', 'joanna', 'halajko', 'bernd', 'vindevogel', 'graduat', 'master', 'market', 'analysi', 'ghent', 'univers', 'use', 'assist', 'term', 'data', 'prepar']\n",
      "\n",
      "['22refer', 'averi', 'rb', '(1981)', '“credit', 'score', 'model', 'discrimin', 'analysi', 'truncat', 'samples”', 'research', 'paper', 'bank', 'financi', 'econom', '54', 'baesen', 'b', 'van', 'gestel', 'viaen', 'stepanova', 'suyken', 'j', 'j', 'vanthienen', '(2003)', '“benchmark', 'state', 'art', 'classif', 'algorithm', 'credit', 'scoring”', 'journal', 'oper', 'research', 'societi', 'forthcom', 'baesen', 'b', 'viaen', 'van', 'den', 'poel', 'vanthienen', 'j', 'g', 'deden', '(2002)', '“use', 'bayesian', 'neural', 'network', 'repeat', 'purchas', 'model', 'direct', 'marketing”', 'european', 'journal', 'oper', 'research', '138', '(1)', 'pp', '191', '211', 'chandler', 'gg', 'jy', 'coffman', '(1977)', '“use', 'credit', 'score', 'improv', 'qualiti', 'consum', 'receiv', 'legal', 'statist', 'implications”', 'paper', 'present', 'financi', 'manag', 'associ', 'meet', 'seattl', 'washington', 'de', 'long', 'er', 'de', 'long', 'dm', 'dl', 'clark', 'pearson', '(1988)', '“compar', 'area', 'two', 'correl', 'receiv', 'operatin', 'g', 'characterist', 'curv', 'nonparametr', 'approach”', 'biometr', '44', 'pp', '837–845', 'desai', 'vs', 'crook', 'jn', 'ga', 'overstreet', 'jr', '(1996)', '“a', 'comparison', 'neural', 'network', 'linear', 'score', 'model', 'credit', 'union', 'environment”', 'european', 'journal', 'oper', 'research', '95', 'pp', '24', '37', 'davi', 'rh', 'edelman', 'db', 'aj', 'gammerman', '(1992)', '“machin', 'learn', 'algorithm', 'credit', 'card', 'applications”', 'ima', 'journal', 'mathemat', 'appli', 'busi', 'industri', '4', 'pp', '43', '51', 'egan', 'jp', '(1975)', '“', 'signal', 'detect', 'theori', 'roc', 'analysi', '”', 'academ', 'press', 'new', 'york', 'eisenbei', 'ra', '(1977)', '“pitfal', 'applic', 'discrimin', 'analysi', 'busi', 'financ', 'economics”', 'journal', 'financ', '32', 'pp', '875', '900', 'feelder', 'aj', '(2000)', '“credit', 'score', 'reject', 'infer', 'mixtur', 'models”', 'intern', 'journal', 'intellig', 'system', 'account', 'financ', 'manag', '8', '(4)', 'pp', '271', '279', 'furniv', 'gm', 'rw', 'wilson', '(1974)', '\"regress', 'leap', 'bounds\"', 'technometr', '16', 'pp', '499', '511', 'hand', 'dj', '(2001)', '“model', 'consum', 'credit', 'risk”', 'ima', 'journal', 'manag', 'mathemat', '12', '(2)', 'pp', '139', '155', 'hand', 'dj', 'henley', '(1994)', '“can', 'reject', 'infer', 'ever', 'work?”', 'ima', 'journal', 'mathemat', 'appli', 'busi', 'industri', '5', '(1)', '45', '55', 'hand', 'dj', 'henley', '(1997)', '“statist', 'classif', 'method', 'consum', 'credit', 'score', 'review”', 'journal', 'royal', 'statist', 'societi', '160', 'pp', '523', '541']\n",
      "\n",
      "['23hsia', 'dc', '(1978)', '“credit', 'score', 'equal', 'credit', 'opportun', 'act”', 'hast', 'law', 'journal', '30', '(2)', 'pp', '371', '448', 'joan', 'dn', '(1994)', '“reject', 'infer', 'appli', 'logist', 'regress', 'credit', 'scoring”', 'ima', 'journal', 'mathemat', 'appli', 'busi', 'industri', '5', '(1)', 'pp', '35', '43', 'maddala', 'gs', '(1992)', '“', 'introduct', 'econometr', '”', 'maxwel', 'macmillan', 'int', 'edit', 'ny', 'myer', 'jh', 'ew', 'forgi', '(1963)', '“the', 'develop', 'numer', 'credit', 'evalu', 'systems”', 'journal', 'american', 'statist', 'associ', '58', '(303)', 'pp', '799', '806', 'morrison', 'dg', '(1969)', '“on', 'interpret', 'discrimin', 'analysis”', 'journal', 'market', 'research', '6', 'pp', '156', '163', 'rosenberg', 'e', 'gleit', '(1994)', '“quantit', 'method', 'credit', 'manag', 'survey”', 'oper', 'research', '42', '(4)', 'pp', '589', '613', 'stepanova', 'l', 'thoma', '(2002)', '“surviv', 'analysi', 'method', 'person', 'loan', 'data”', 'oper', 'research', '50', '(2)', 'pp', '277', '289', 'thoma', 'lc', '(2000)', '“a', 'survey', 'credit', 'behavior', 'score', 'forecast', 'financi', 'risk', 'lend', 'customers”', 'intern', 'journal', 'forecast', '16', '(2)', 'pp', '149', '172', 'thoma', 'lc', 'ho', 'j', 'wt', 'scherer', '(2001)', '“time', 'tell', 'behaviour', 'score', 'dynam', 'consum', 'credit', 'assessment”', 'ima', 'journal', 'manag', 'mathemat', '12', 'pp', '89', '103']\n",
      "\n",
      "['24appendix', '1', 'sampl', 'composit', 'research', 'question', '2', 'actual', 'set', '868', '%', 'accept', 'sensit', 'analysi', '70', '%', 'accept', 'tr', '1005', '(54)', '2009', 'ord', '(107', 'def)', '≈', '533', '%', 'default', 'nu', 'te', '10494', '(133)', 'tr', '10494', '(134)29206', 'order', '(371', 'defaults)≈', '127', '%', 'default', '3462', 'tr', '4421', '(56)', 'te', '1004', '(53)', 'acc', 'pted', 're', 'ject', 'tr', '3416', '(129)', 'te', '3417', '(129)6833', 'ord', '(258', 'def)', '≈', '378', '%', 'default', '14273b65b3a5a2009', 'order', '(107', 'defaults)', '≈', '533', '%', 'default', 'nu36039', 'order', '(629', 'defaults)≈', '175', '%', 'default', 'acc', 'pted', 're', 'ject', 'tr', '1005', '(54)', '3462', 'te', '6617', '(115)', 'tr', '6617', '(116)', 'tr', '1005', '(18)', 'te', '1004', '(53)', '1427365tr', '=', 'train', 'set', 'te', '=', 'testset', '=', 'reject', 'nu', '=', 'use', 'number', 'observ', '(number', 'defaults)']\n",
      "\n",
      "['25appendix', '2', 'list', 'variabl', 'use', '0', 'name', 'type', 'descript', 'a*p*1', 'home_own1', 'binari', 'home', 'ownership', '1=owner', '0=renter', 'x', 'x', '2', 'home_own2', 'binari', 'home', 'ownership', '1=miss', '0=non', 'miss', 'x', 'x', '3', 'occup1', 'binari', '1=full', 'time', '0=other', 'case', '4', 'occup2', 'binari', '1=retir', '0=other', 'case', 'x', 'x', '5', 'occup3', 'binari', '1=housewif', '0=other', 'case', 'x', '6', 'occup4', 'binari', '1=live', 'social', 'welfar', '0=other', 'case', 'x', 'x', '7', 'occup5', 'binari', '1=student', '0=other', 'case', 'x', 'x', '8', 'occup6', 'binari', '1=without', 'profess', '0', '=', 'case', 'x', 'x', '9', 'occup7', 'binari', '1=miss', '0=other', 'case', 'x', 'x', '10', 'bank_acc', 'continu', 'number', 'bank', 'account', 'x', 'x', '11', 'debt1', 'binari', '1=current', 'debt', '<10000', '0=other', 'case', 'x', 'x', '12', 'debt2', 'binari', '1=(10000<=current', 'debt<25000)', '0=other', 'case', 'x', 'x', '13', 'debt3', 'binari', '1=(25000<=current', 'debt', '<60000)', '0=other', 'case', 'x', 'x', '14', 'debt4', 'binari', '1=(current', 'debt', '>=60000)', '0=other', 'case', 'x', '15', 'open_credit', 'continu', 'number', 'credit', 'still', 'due', 'x', 'x', '16', 'amount_open', 'continu', 'amount', 'still', 'open', 'credit', 'x', '17', 'open_credit_old', 'continu', 'number', 'credit', 'older', '120', 'day', 'x', '18', 'amount_open_old', 'continu', 'amount', 'open', 'credit', 'x', '19', 'amount_al', 'continu', 'amount', 'credit', 'custom', 'x', '20', 'amount_paid', 'continu', 'amount', 'credit', 'refund', 'x', '21', 'ratio_paid', 'continu', 'amount_paid', '/', 'amount_al', 'x', 'x', '22', 'blacklist1', 'binari', '1=list', 'black', 'list', 'vkc', '0=other', 'case', 'x', '23', 'blacklist2', 'binari', '1=miss', 'valu', 'black', 'list', 'vkc', '0=other', 'case', 'x', '24', 'blacklist3', 'binari', '1=list', 'black', 'list', 'upc', '0=other', 'case', 'x', 'x', '25', 'blacklist4', 'binari', '1=miss', 'valu', 'black', 'list', 'upc', '0=other', 'case', '26', 'remind1', 'binari', '1=remind', 'histori', 'known', '0=other', 'case', 'x', '27', 'remind2', 'binari', '1=receiv', '2nd', 'remind', '0=other', 'case', 'x', 'x', '28', 'remind3', 'binari', '1=receiv', '3rd', 'remind', '0=other', 'case', '29', 'remind4', 'continu', 'number', '1st', 'remind', 'custom', 'relationship', '30', 'remind5', 'continu', 'number', '2nd', 'remind', 'custom', 'relationship', 'x', '31', 'remind6', 'continu', 'number', '3rd', 'remind', 'custom', 'relationship', 'x', 'x', '32', 'remind_install4', 'continu', 'number', '1st', 'remind', 'per', 'instal', '33', 'remind_install5', 'continu', 'number', '2nd', 'remind', 'per', 'instal', 'x', 'x', '34', 'remind_install6', 'continu', 'number', '3rd', 'remind', 'per', 'instal', '35', 'remind7', 'continu', 'number', '1st', 'remind', 'short', 'term', 'consum', 'credit', 'x', '36', 'remind8', 'continu', 'number', '2nd', 'remind', 'short', 'term', 'consum', 'credit', '37', 'remind9', 'continu', 'number', '3rd', 'remind', 'short', 'term', 'consum', 'credit', 'x', '38', 'remind_install7', 'continu', 'number', '1st', 'remind', 'short', 'term', 'credit', 'per', 'instal', 'x', 'x', '39', 'remind_install8', 'continu', 'number', '2nd', 'remind', 'short', 'term', 'credit', 'per', 'instal', 'x', 'x', '40', 'remind_install9', 'continu', 'number', '3rd', 'remind', 'short', 'term', 'credit', 'per', 'instal', 'x', '41', 'default1', 'binari', 'client', 'default', 'credit', 'last', 'two', 'year', 'x', 'x', '42', 'default2', 'binari', 'client', 'default', 'credit', 'last', '15', 'year', 'x', 'x', '43', 'remind_last', 'continu', 'summari', 'score', 'remind', 'last', 'order', 'x', 'x', '44', 'remind_1butlast', 'continu', 'summari', 'score', 'one', 'last', 'order', 'x', 'x', '45', 'increase_remind', 'continu', 'increase/decreas', 'summari', 'score', 'remind', 'x', 'x', '*', 'tabl', 'a', 'repres', 'variabl', 'select', 'sampl', 'accept', 'order', 'p', 'repres', 'variabl', 'select', 'proport', 'sampl', 'accept', 'versus', 'reject', 'order']\n",
      "\n",
      "['26', 'appendix', '3', 'variabl', 'select', 'process', 'appendix', '4', 'credit', 'score', 'perform', 'increas', 'sampl', 'size', '00005001001500200250', '5', '10', '15', '20', '25', '30', '35', '40', '45', '50', '00004', '000020000020000400006000080001000120', '5', '10', '15', '20', '25', '30', '35', '40', '45', '50', 'pcc', 'perform', 'p', 'auc', 'perform', 'p']\n",
      "\n"
     ]
    }
   ],
   "source": [
    "import PyPDF2\n",
    "import re\n",
    "import nltk\n",
    "\n",
    "import json\n",
    "\n",
    "from nltk.stem.snowball import EnglishStemmer\n",
    "# nltk.download('wordnet')\n",
    "# nltk.download('omw-1.4')\n",
    "from nltk.stem import PorterStemmer # stemmer lib\n",
    "\n",
    "reader = PyPDF2.PdfFileReader(open('example.pdf','rb')) # pdf file\n",
    "\n",
    "\n",
    "def analyse(page_number): # function\n",
    "    page = reader.pages[page_number] # current page\n",
    "#     print(page)\n",
    "    text = page.extract_text() # extract text\n",
    "#     print(text)\n",
    "    _text1 = text.split(\" \") # split string\n",
    "#     print( _text1)\n",
    "\n",
    "    _text2a = []\n",
    "    for text in _text1:\n",
    "        _text2a.append(str(text).replace('\\n','').strip()) # replace and strip\n",
    "#     print(_text2a)\n",
    "    _text2b = []\n",
    "\n",
    "    for text in _text2a:\n",
    "        if len(text) != 0:\n",
    "            _text2b.append(text) # storing text\n",
    "#     print(_text2b)\n",
    "    \n",
    "    _text3 = []\n",
    "\n",
    "    for text in _text2b:\n",
    "        _text3.append(re.sub('[:,;.\\[\\]]', '', text)) # storing text\n",
    "\n",
    "#     print(_text3)\n",
    "#     print('')\n",
    "#     print( 'number of total strings :', len(_text3) )\n",
    "    \n",
    "    _text4a = []\n",
    "\n",
    "    for text in _text3:\n",
    "        _text4a.append(re.sub('\\([a-z]+\\)','',text)) # storing text\n",
    "\n",
    "#     print(_text4a)\n",
    "#     print('')\n",
    "#     print( 'number of total strings :', len(_text4a) )\n",
    "    \n",
    "    _text4b = []\n",
    "\n",
    "    for text in _text4a:\n",
    "        if len(text) != 0:\n",
    "            _text4b.append(text) # storing text\n",
    "#     print(_text4b)\n",
    "#     print('')\n",
    "#     print( 'number of total strings :', len(_text4b) )\n",
    "    \n",
    "    _text5 = []\n",
    "    for text in _text4b:\n",
    "        _text5.append(str(text).lower()) # storing text\n",
    "#     print(_text5)\n",
    "#     print('')\n",
    "#     print( 'number of total strings :', len(_text5) )\n",
    "    \n",
    "    _text6 = []\n",
    "\n",
    "    for elem in _text5:\n",
    "        e = elem.split('-')\n",
    "\n",
    "        if len(e) == 1:\n",
    "            _text6.append(e[0]) # storing text\n",
    "        elif len(e) > 1:\n",
    "            _text6.extend(e) # extend list\n",
    "        else:\n",
    "            pass\n",
    "#     print(_text6)\n",
    "#     print('')\n",
    "#     print( 'number of total strings :', len(_text6) )\n",
    "    \n",
    "    \n",
    "    stopwords = nltk.corpus.stopwords.words('english') # stopwords\n",
    "    \n",
    "    _text7 = [ word for word in _text6 if not word.lower() in stopwords]\n",
    "#     print( _text7 )\n",
    "#     print('')\n",
    "#     print( 'number of total strings :', len(_text7) )\n",
    "    \n",
    "    stemmer = EnglishStemmer()\n",
    "\n",
    "    _text8 = []\n",
    "\n",
    "    for word in _text7:\n",
    "        _text8.append(stemmer.stem(word))\n",
    "\n",
    "#     print( _text8 )\n",
    "#     print('')\n",
    "#     print( 'number of total strings :', len(_text8) )\n",
    "    \n",
    "    return _text8 # return final text\n",
    "\n",
    " \n",
    "\n",
    "#####################################################################\n",
    "# export data\n",
    "\n",
    "number_of_pages = reader.getNumPages() # total page\n",
    "data = [] # data\n",
    "    \n",
    "## for each page:\n",
    "for i in range(0, number_of_pages):\n",
    "    data.append(analyse(i))\n",
    "#     print(\"-----------------------------\",i+1,\"--------------\")\n",
    "\n",
    "# data\n",
    "\n",
    "## store data in dictionary\n",
    "dict = {}\n",
    "for i in range(len(data)):\n",
    "    for word in data:\n",
    "        dict[f'Page {i+1}'] = data[i]\n",
    "\n",
    "        \n",
    "for keys in dict.keys():\n",
    "    print(dict[keys])\n",
    "    print()"
   ]
  },
  {
   "cell_type": "code",
   "execution_count": null,
   "id": "33b0c154",
   "metadata": {},
   "outputs": [],
   "source": []
  }
 ],
 "metadata": {
  "kernelspec": {
   "display_name": "Python 3 (ipykernel)",
   "language": "python",
   "name": "python3"
  },
  "language_info": {
   "codemirror_mode": {
    "name": "ipython",
    "version": 3
   },
   "file_extension": ".py",
   "mimetype": "text/x-python",
   "name": "python",
   "nbconvert_exporter": "python",
   "pygments_lexer": "ipython3",
   "version": "3.8.12"
  }
 },
 "nbformat": 4,
 "nbformat_minor": 5
}
